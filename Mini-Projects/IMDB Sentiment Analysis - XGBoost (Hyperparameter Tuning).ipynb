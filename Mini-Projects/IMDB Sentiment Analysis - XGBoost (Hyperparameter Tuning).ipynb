{
 "cells": [
  {
   "cell_type": "markdown",
   "metadata": {},
   "source": [
    "# Sentiment Analysis\n",
    "\n",
    "## Using XGBoost in SageMaker\n",
    "\n",
    "_Deep Learning Nanodegree Program | Deployment_\n",
    "\n",
    "---\n",
    "\n",
    "In this example of using Amazon's SageMaker service we will construct a random tree model to predict the sentiment of a movie review. You may have seen a version of this example in a pervious lesson although it would have been done using the sklearn package. Instead, we will be using the XGBoost package as it is provided to us by Amazon.\n",
    "\n",
    "## Instructions\n",
    "\n",
    "Some template code has already been provided for you, and you will need to implement additional functionality to successfully complete this notebook. You will not need to modify the included code beyond what is requested. Sections that begin with '**TODO**' in the header indicate that you need to complete or implement some portion within them. Instructions will be provided for each section and the specifics of the implementation are marked in the code block with a `# TODO: ...` comment. Please be sure to read the instructions carefully!\n",
    "\n",
    "In addition to implementing code, there will be questions for you to answer which relate to the task and your implementation. Each section where you will answer a question is preceded by a '**Question:**' header. Carefully read each question and provide your answer below the '**Answer:**' header by editing the Markdown cell.\n",
    "\n",
    "> **Note**: Code and Markdown cells can be executed using the **Shift+Enter** keyboard shortcut. In addition, a cell can be edited by typically clicking it (double-click for Markdown cells) or by pressing **Enter** while it is highlighted."
   ]
  },
  {
   "cell_type": "code",
   "execution_count": 1,
   "metadata": {},
   "outputs": [
    {
     "name": "stdout",
     "output_type": "stream",
     "text": [
      "Collecting sagemaker==1.72.0\n",
      "  Downloading sagemaker-1.72.0.tar.gz (297 kB)\n",
      "\u001b[K     |████████████████████████████████| 297 kB 13.7 MB/s eta 0:00:01\n",
      "\u001b[?25hRequirement already satisfied: boto3>=1.14.12 in /home/ec2-user/anaconda3/envs/python3/lib/python3.6/site-packages (from sagemaker==1.72.0) (1.16.37)\n",
      "Requirement already satisfied: numpy>=1.9.0 in /home/ec2-user/anaconda3/envs/python3/lib/python3.6/site-packages (from sagemaker==1.72.0) (1.19.4)\n",
      "Requirement already satisfied: protobuf>=3.1 in /home/ec2-user/anaconda3/envs/python3/lib/python3.6/site-packages (from sagemaker==1.72.0) (3.14.0)\n",
      "Requirement already satisfied: scipy>=0.19.0 in /home/ec2-user/anaconda3/envs/python3/lib/python3.6/site-packages (from sagemaker==1.72.0) (1.4.1)\n",
      "Requirement already satisfied: protobuf3-to-dict>=0.1.5 in /home/ec2-user/anaconda3/envs/python3/lib/python3.6/site-packages (from sagemaker==1.72.0) (0.1.5)\n",
      "Requirement already satisfied: importlib-metadata>=1.4.0 in /home/ec2-user/anaconda3/envs/python3/lib/python3.6/site-packages (from sagemaker==1.72.0) (3.1.0)\n",
      "Requirement already satisfied: packaging>=20.0 in /home/ec2-user/anaconda3/envs/python3/lib/python3.6/site-packages (from sagemaker==1.72.0) (20.7)\n",
      "Requirement already satisfied: jmespath<1.0.0,>=0.7.1 in /home/ec2-user/anaconda3/envs/python3/lib/python3.6/site-packages (from boto3>=1.14.12->sagemaker==1.72.0) (0.10.0)\n",
      "Requirement already satisfied: s3transfer<0.4.0,>=0.3.0 in /home/ec2-user/anaconda3/envs/python3/lib/python3.6/site-packages (from boto3>=1.14.12->sagemaker==1.72.0) (0.3.3)\n",
      "Requirement already satisfied: botocore<1.20.0,>=1.19.37 in /home/ec2-user/anaconda3/envs/python3/lib/python3.6/site-packages (from boto3>=1.14.12->sagemaker==1.72.0) (1.19.37)\n",
      "Requirement already satisfied: jmespath<1.0.0,>=0.7.1 in /home/ec2-user/anaconda3/envs/python3/lib/python3.6/site-packages (from boto3>=1.14.12->sagemaker==1.72.0) (0.10.0)\n",
      "Requirement already satisfied: urllib3<1.27,>=1.25.4 in /home/ec2-user/anaconda3/envs/python3/lib/python3.6/site-packages (from botocore<1.20.0,>=1.19.37->boto3>=1.14.12->sagemaker==1.72.0) (1.25.11)\n",
      "Requirement already satisfied: python-dateutil<3.0.0,>=2.1 in /home/ec2-user/anaconda3/envs/python3/lib/python3.6/site-packages (from botocore<1.20.0,>=1.19.37->boto3>=1.14.12->sagemaker==1.72.0) (2.8.1)\n",
      "Requirement already satisfied: zipp>=0.5 in /home/ec2-user/anaconda3/envs/python3/lib/python3.6/site-packages (from importlib-metadata>=1.4.0->sagemaker==1.72.0) (3.4.0)\n",
      "Requirement already satisfied: pyparsing>=2.0.2 in /home/ec2-user/anaconda3/envs/python3/lib/python3.6/site-packages (from packaging>=20.0->sagemaker==1.72.0) (2.4.7)\n",
      "Requirement already satisfied: six>=1.9 in /home/ec2-user/anaconda3/envs/python3/lib/python3.6/site-packages (from protobuf>=3.1->sagemaker==1.72.0) (1.15.0)\n",
      "Requirement already satisfied: six>=1.9 in /home/ec2-user/anaconda3/envs/python3/lib/python3.6/site-packages (from protobuf>=3.1->sagemaker==1.72.0) (1.15.0)\n",
      "Requirement already satisfied: protobuf>=3.1 in /home/ec2-user/anaconda3/envs/python3/lib/python3.6/site-packages (from sagemaker==1.72.0) (3.14.0)\n",
      "Requirement already satisfied: six>=1.9 in /home/ec2-user/anaconda3/envs/python3/lib/python3.6/site-packages (from protobuf>=3.1->sagemaker==1.72.0) (1.15.0)\n",
      "Requirement already satisfied: botocore<1.20.0,>=1.19.37 in /home/ec2-user/anaconda3/envs/python3/lib/python3.6/site-packages (from boto3>=1.14.12->sagemaker==1.72.0) (1.19.37)\n",
      "Requirement already satisfied: numpy>=1.9.0 in /home/ec2-user/anaconda3/envs/python3/lib/python3.6/site-packages (from sagemaker==1.72.0) (1.19.4)\n",
      "Collecting smdebug-rulesconfig==0.1.4\n",
      "  Downloading smdebug_rulesconfig-0.1.4-py2.py3-none-any.whl (10 kB)\n",
      "Building wheels for collected packages: sagemaker\n",
      "  Building wheel for sagemaker (setup.py) ... \u001b[?25ldone\n",
      "\u001b[?25h  Created wheel for sagemaker: filename=sagemaker-1.72.0-py2.py3-none-any.whl size=386358 sha256=c266e59c9e235696a4ddd62f1767d036dc4690c7eddc026ecc9b7f5cf930f989\n",
      "  Stored in directory: /home/ec2-user/.cache/pip/wheels/c3/58/70/85faf4437568bfaa4c419937569ba1fe54d44c5db42406bbd7\n",
      "Successfully built sagemaker\n",
      "Installing collected packages: smdebug-rulesconfig, sagemaker\n",
      "  Attempting uninstall: smdebug-rulesconfig\n",
      "    Found existing installation: smdebug-rulesconfig 1.0.0\n",
      "    Uninstalling smdebug-rulesconfig-1.0.0:\n",
      "      Successfully uninstalled smdebug-rulesconfig-1.0.0\n",
      "  Attempting uninstall: sagemaker\n",
      "    Found existing installation: sagemaker 2.19.0\n",
      "    Uninstalling sagemaker-2.19.0:\n",
      "      Successfully uninstalled sagemaker-2.19.0\n",
      "Successfully installed sagemaker-1.72.0 smdebug-rulesconfig-0.1.4\n",
      "\u001b[33mWARNING: You are using pip version 20.3; however, version 20.3.3 is available.\n",
      "You should consider upgrading via the '/home/ec2-user/anaconda3/envs/python3/bin/python -m pip install --upgrade pip' command.\u001b[0m\n"
     ]
    }
   ],
   "source": [
    "# Make sure that we use SageMaker 1.x\n",
    "!pip install sagemaker==1.72.0"
   ]
  },
  {
   "cell_type": "markdown",
   "metadata": {},
   "source": [
    "## Step 1: Downloading the data\n",
    "\n",
    "The dataset we are going to use is very popular among researchers in Natural Language Processing, usually referred to as the [IMDb dataset](http://ai.stanford.edu/~amaas/data/sentiment/). It consists of movie reviews from the website [imdb.com](http://www.imdb.com/), each labeled as either '**pos**itive', if the reviewer enjoyed the film, or '**neg**ative' otherwise.\n",
    "\n",
    "> Maas, Andrew L., et al. [Learning Word Vectors for Sentiment Analysis](http://ai.stanford.edu/~amaas/data/sentiment/). In _Proceedings of the 49th Annual Meeting of the Association for Computational Linguistics: Human Language Technologies_. Association for Computational Linguistics, 2011.\n",
    "\n",
    "We begin by using some Jupyter Notebook magic to download and extract the dataset."
   ]
  },
  {
   "cell_type": "code",
   "execution_count": 2,
   "metadata": {},
   "outputs": [
    {
     "name": "stdout",
     "output_type": "stream",
     "text": [
      "mkdir: cannot create directory ‘../data’: File exists\n",
      "--2021-01-10 23:29:57--  http://ai.stanford.edu/~amaas/data/sentiment/aclImdb_v1.tar.gz\n",
      "Resolving ai.stanford.edu (ai.stanford.edu)... 171.64.68.10\n",
      "Connecting to ai.stanford.edu (ai.stanford.edu)|171.64.68.10|:80... connected.\n",
      "HTTP request sent, awaiting response... 200 OK\n",
      "Length: 84125825 (80M) [application/x-gzip]\n",
      "Saving to: ‘../data/aclImdb_v1.tar.gz’\n",
      "\n",
      "../data/aclImdb_v1. 100%[===================>]  80.23M  23.7MB/s    in 4.0s    \n",
      "\n",
      "2021-01-10 23:30:02 (19.9 MB/s) - ‘../data/aclImdb_v1.tar.gz’ saved [84125825/84125825]\n",
      "\n"
     ]
    }
   ],
   "source": [
    "%mkdir ../data\n",
    "!wget -O ../data/aclImdb_v1.tar.gz http://ai.stanford.edu/~amaas/data/sentiment/aclImdb_v1.tar.gz\n",
    "!tar -zxf ../data/aclImdb_v1.tar.gz -C ../data"
   ]
  },
  {
   "cell_type": "markdown",
   "metadata": {},
   "source": [
    "## Step 2: Preparing the data\n",
    "\n",
    "The data we have downloaded is split into various files, each of which contains a single review. It will be much easier going forward if we combine these individual files into two large files, one for training and one for testing."
   ]
  },
  {
   "cell_type": "code",
   "execution_count": 3,
   "metadata": {},
   "outputs": [],
   "source": [
    "import os\n",
    "import glob\n",
    "\n",
    "def read_imdb_data(data_dir='../data/aclImdb'):\n",
    "    data = {}\n",
    "    labels = {}\n",
    "    \n",
    "    for data_type in ['train', 'test']:\n",
    "        data[data_type] = {}\n",
    "        labels[data_type] = {}\n",
    "        \n",
    "        for sentiment in ['pos', 'neg']:\n",
    "            data[data_type][sentiment] = []\n",
    "            labels[data_type][sentiment] = []\n",
    "            \n",
    "            path = os.path.join(data_dir, data_type, sentiment, '*.txt')\n",
    "            files = glob.glob(path)\n",
    "            \n",
    "            for f in files:\n",
    "                with open(f) as review:\n",
    "                    data[data_type][sentiment].append(review.read())\n",
    "                    # Here we represent a positive review by '1' and a negative review by '0'\n",
    "                    labels[data_type][sentiment].append(1 if sentiment == 'pos' else 0)\n",
    "                    \n",
    "            assert len(data[data_type][sentiment]) == len(labels[data_type][sentiment]), \\\n",
    "                    \"{}/{} data size does not match labels size\".format(data_type, sentiment)\n",
    "                \n",
    "    return data, labels"
   ]
  },
  {
   "cell_type": "code",
   "execution_count": 4,
   "metadata": {},
   "outputs": [
    {
     "name": "stdout",
     "output_type": "stream",
     "text": [
      "IMDB reviews: train = 12500 pos / 12500 neg, test = 12500 pos / 12500 neg\n"
     ]
    }
   ],
   "source": [
    "data, labels = read_imdb_data()\n",
    "print(\"IMDB reviews: train = {} pos / {} neg, test = {} pos / {} neg\".format(\n",
    "            len(data['train']['pos']), len(data['train']['neg']),\n",
    "            len(data['test']['pos']), len(data['test']['neg'])))"
   ]
  },
  {
   "cell_type": "code",
   "execution_count": 5,
   "metadata": {},
   "outputs": [],
   "source": [
    "from sklearn.utils import shuffle\n",
    "\n",
    "def prepare_imdb_data(data, labels):\n",
    "    \"\"\"Prepare training and test sets from IMDb movie reviews.\"\"\"\n",
    "    \n",
    "    #Combine positive and negative reviews and labels\n",
    "    data_train = data['train']['pos'] + data['train']['neg']\n",
    "    data_test = data['test']['pos'] + data['test']['neg']\n",
    "    labels_train = labels['train']['pos'] + labels['train']['neg']\n",
    "    labels_test = labels['test']['pos'] + labels['test']['neg']\n",
    "    \n",
    "    #Shuffle reviews and corresponding labels within training and test sets\n",
    "    data_train, labels_train = shuffle(data_train, labels_train)\n",
    "    data_test, labels_test = shuffle(data_test, labels_test)\n",
    "    \n",
    "    # Return a unified training data, test data, training labels, test labets\n",
    "    return data_train, data_test, labels_train, labels_test"
   ]
  },
  {
   "cell_type": "code",
   "execution_count": 6,
   "metadata": {},
   "outputs": [
    {
     "name": "stdout",
     "output_type": "stream",
     "text": [
      "IMDb reviews (combined): train = 25000, test = 25000\n"
     ]
    }
   ],
   "source": [
    "train_X, test_X, train_y, test_y = prepare_imdb_data(data, labels)\n",
    "print(\"IMDb reviews (combined): train = {}, test = {}\".format(len(train_X), len(test_X)))"
   ]
  },
  {
   "cell_type": "code",
   "execution_count": 7,
   "metadata": {},
   "outputs": [
    {
     "data": {
      "text/plain": [
       "\"I have seen a lot of PPV's in the past but this is the most entertaining, intense PPV and the most complete DVD i have ever seen. The DVD extras are worth it because they it gives a different view of how the wrestlers act after the show (such as the chris benoit interview/edge interview), some glimpse into the Monday Night Wars era,the first match of Hogan winning tag title gold and some promotional talk. Additionally there is a good music video.<br /><br />1. Tag Team Table match: Bubby Ray and Spike Dudley vs. Eddie Guerro and Chris benoit 7/10 This was a pretty good intense match to start off the show. Not too many holds and just pure raw physicallity. Spike can hold his own in tables matches and Guerro and Benoit gave good pure wrestling skills on the mat. <br /><br />2. WWE Crusierweight championship: Jamie Noble w/ Nidia v. Billy Kidman 3/10 The crowd really didn't care about either wrestler and didn't get interested until Kidman did a shooting star press. Usually people expect a lot of high flying in a cruiser weight championship, but this had very little. In fact it was so bad that when Noble hit his finisher, no one even cared or knew (you can tell by the lack of camera's flashing). The ending was quick though. <br /><br />3. WWE European Championship: Jeff hardy v. William Regal 5/10 I've never really liked regal as a wrestler, he lacks intensity and style. Hardy was impressive but really didn't get a chance to show off his high flying act, although he still performed some good counters and added that needed fast pace to the match. It ended off quickly which was perfect for this match. <br /><br />4. John Cena v. Chris Jericho 6/10 It's funny looking back at Cena's very first PPV, how he used to act, how he used to dress, and how he used to look (watch his interview, it's pretty funny). This was a good intense match with Cena showing a nice variety of holds, suplexes, counters and some aerial. Jericho was sub-par but definitely helped Cena launch his career. Cena Wins.<br /><br />5. WWE Intercontenital championship: RVD v. Brock Lesnar 8/10 This was a very intense and good match. Both wrestlers styles really matched up well on the screen, with Brocks pure power and raw energy vs. RVDs skill full moves and quickness. RVD looked great in this match (better than his later matches with edge and cena)and the entire match was fast pace. The ending worked perfectly because it still preserved Brock's undefeated streak while giving RVD his just desserts in his home state.<br /><br />6. No disqualification match: Booker T v. Big Show 7/10 Another solid match that lacked a certain intensity as the RVD match but still a good follow up. Although it started off kinda slow (which it always is with big show) Booker T was impressive and did a sick move on the announcers table. The finisher was awesome, the ending was a great upset and big move up for Booker T.<br /><br />7. WWE Tag Team Championship: Hogan and Edge v. Christian and Lance storm 5/10 This was a mediocre match. Hogan comes out like usual to a huge pop but his variety of moves lacks that intensity and energy. Then again Christian doesn't exactly have the greatest athletic abilities himself. This ended up being a mediocre match at best but was still OK for PPV. <br /><br />8. Triple Threat Match for the Undisputed Championship: 10/10. Rock v. Undertaker v. Kurt Angle.<br /><br />Easily the match of the year. This is by far the best triple threat match i have ever seen. It had close falls, plenty of finishers, stolen finishers, raw energy, intensity and fast pace. No one could predict who would come out of this one. If your going to buy this DVD i would buy it strictly for this match. (ending? watch for yourself!)<br /><br />Overall this was a solid PPV with plenty of extra goodies to keep you watching again and again. Although this is hard to find (i had to pay a little more than usual for this DVD) it is definitely worth your money.\""
      ]
     },
     "execution_count": 7,
     "metadata": {},
     "output_type": "execute_result"
    }
   ],
   "source": [
    "train_X[100]"
   ]
  },
  {
   "cell_type": "markdown",
   "metadata": {},
   "source": [
    "## Step 3: Processing the data\n",
    "\n",
    "Now that we have our training and testing datasets merged and ready to use, we need to start processing the raw data into something that will be useable by our machine learning algorithm. To begin with, we remove any html formatting that may appear in the reviews and perform some standard natural language processing in order to homogenize the data."
   ]
  },
  {
   "cell_type": "code",
   "execution_count": 8,
   "metadata": {},
   "outputs": [
    {
     "name": "stderr",
     "output_type": "stream",
     "text": [
      "[nltk_data] Downloading package stopwords to\n",
      "[nltk_data]     /home/ec2-user/nltk_data...\n",
      "[nltk_data]   Unzipping corpora/stopwords.zip.\n"
     ]
    }
   ],
   "source": [
    "import nltk\n",
    "nltk.download(\"stopwords\")\n",
    "from nltk.corpus import stopwords\n",
    "from nltk.stem.porter import *\n",
    "stemmer = PorterStemmer()"
   ]
  },
  {
   "cell_type": "code",
   "execution_count": 9,
   "metadata": {},
   "outputs": [],
   "source": [
    "import re\n",
    "from bs4 import BeautifulSoup\n",
    "\n",
    "def review_to_words(review):\n",
    "    text = BeautifulSoup(review, \"html.parser\").get_text() # Remove HTML tags\n",
    "    text = re.sub(r\"[^a-zA-Z0-9]\", \" \", text.lower()) # Convert to lower case\n",
    "    words = text.split() # Split string into words\n",
    "    words = [w for w in words if w not in stopwords.words(\"english\")] # Remove stopwords\n",
    "    words = [PorterStemmer().stem(w) for w in words] # stem\n",
    "    \n",
    "    return words"
   ]
  },
  {
   "cell_type": "code",
   "execution_count": 10,
   "metadata": {},
   "outputs": [],
   "source": [
    "import pickle\n",
    "\n",
    "cache_dir = os.path.join(\"../cache\", \"sentiment_analysis\")  # where to store cache files\n",
    "os.makedirs(cache_dir, exist_ok=True)  # ensure cache directory exists\n",
    "\n",
    "def preprocess_data(data_train, data_test, labels_train, labels_test,\n",
    "                    cache_dir=cache_dir, cache_file=\"preprocessed_data.pkl\"):\n",
    "    \"\"\"Convert each review to words; read from cache if available.\"\"\"\n",
    "\n",
    "    # If cache_file is not None, try to read from it first\n",
    "    cache_data = None\n",
    "    if cache_file is not None:\n",
    "        try:\n",
    "            with open(os.path.join(cache_dir, cache_file), \"rb\") as f:\n",
    "                cache_data = pickle.load(f)\n",
    "            print(\"Read preprocessed data from cache file:\", cache_file)\n",
    "        except:\n",
    "            pass  # unable to read from cache, but that's okay\n",
    "    \n",
    "    # If cache is missing, then do the heavy lifting\n",
    "    if cache_data is None:\n",
    "        # Preprocess training and test data to obtain words for each review\n",
    "        #words_train = list(map(review_to_words, data_train))\n",
    "        #words_test = list(map(review_to_words, data_test))\n",
    "        words_train = [review_to_words(review) for review in data_train]\n",
    "        words_test = [review_to_words(review) for review in data_test]\n",
    "        \n",
    "        # Write to cache file for future runs\n",
    "        if cache_file is not None:\n",
    "            cache_data = dict(words_train=words_train, words_test=words_test,\n",
    "                              labels_train=labels_train, labels_test=labels_test)\n",
    "            with open(os.path.join(cache_dir, cache_file), \"wb\") as f:\n",
    "                pickle.dump(cache_data, f)\n",
    "            print(\"Wrote preprocessed data to cache file:\", cache_file)\n",
    "    else:\n",
    "        # Unpack data loaded from cache file\n",
    "        words_train, words_test, labels_train, labels_test = (cache_data['words_train'],\n",
    "                cache_data['words_test'], cache_data['labels_train'], cache_data['labels_test'])\n",
    "    \n",
    "    return words_train, words_test, labels_train, labels_test"
   ]
  },
  {
   "cell_type": "code",
   "execution_count": 11,
   "metadata": {},
   "outputs": [
    {
     "name": "stdout",
     "output_type": "stream",
     "text": [
      "Wrote preprocessed data to cache file: preprocessed_data.pkl\n"
     ]
    }
   ],
   "source": [
    "# Preprocess data\n",
    "train_X, test_X, train_y, test_y = preprocess_data(train_X, test_X, train_y, test_y)"
   ]
  },
  {
   "cell_type": "markdown",
   "metadata": {},
   "source": [
    "### Extract Bag-of-Words features\n",
    "\n",
    "For the model we will be implementing, rather than using the reviews directly, we are going to transform each review into a Bag-of-Words feature representation. Keep in mind that 'in the wild' we will only have access to the training set so our transformer can only use the training set to construct a representation."
   ]
  },
  {
   "cell_type": "code",
   "execution_count": 12,
   "metadata": {},
   "outputs": [
    {
     "name": "stderr",
     "output_type": "stream",
     "text": [
      "/home/ec2-user/anaconda3/envs/python3/lib/python3.6/site-packages/sklearn/externals/joblib/__init__.py:15: FutureWarning: sklearn.externals.joblib is deprecated in 0.21 and will be removed in 0.23. Please import this functionality directly from joblib, which can be installed with: pip install joblib. If this warning is raised when loading pickled models, you may need to re-serialize those models with scikit-learn 0.21+.\n",
      "  warnings.warn(msg, category=FutureWarning)\n"
     ]
    }
   ],
   "source": [
    "import numpy as np\n",
    "from sklearn.feature_extraction.text import CountVectorizer\n",
    "from sklearn.externals import joblib\n",
    "# joblib is an enhanced version of pickle that is more efficient for storing NumPy arrays\n",
    "\n",
    "def extract_BoW_features(words_train, words_test, vocabulary_size=5000,\n",
    "                         cache_dir=cache_dir, cache_file=\"bow_features.pkl\"):\n",
    "    \"\"\"Extract Bag-of-Words for a given set of documents, already preprocessed into words.\"\"\"\n",
    "    \n",
    "    # If cache_file is not None, try to read from it first\n",
    "    cache_data = None\n",
    "    if cache_file is not None:\n",
    "        try:\n",
    "            with open(os.path.join(cache_dir, cache_file), \"rb\") as f:\n",
    "                cache_data = joblib.load(f)\n",
    "            print(\"Read features from cache file:\", cache_file)\n",
    "        except:\n",
    "            pass  # unable to read from cache, but that's okay\n",
    "    \n",
    "    # If cache is missing, then do the heavy lifting\n",
    "    if cache_data is None:\n",
    "        # Fit a vectorizer to training documents and use it to transform them\n",
    "        # NOTE: Training documents have already been preprocessed and tokenized into words;\n",
    "        #       pass in dummy functions to skip those steps, e.g. preprocessor=lambda x: x\n",
    "        vectorizer = CountVectorizer(max_features=vocabulary_size,\n",
    "                preprocessor=lambda x: x, tokenizer=lambda x: x)  # already preprocessed\n",
    "        features_train = vectorizer.fit_transform(words_train).toarray()\n",
    "\n",
    "        # Apply the same vectorizer to transform the test documents (ignore unknown words)\n",
    "        features_test = vectorizer.transform(words_test).toarray()\n",
    "        \n",
    "        # NOTE: Remember to convert the features using .toarray() for a compact representation\n",
    "        \n",
    "        # Write to cache file for future runs (store vocabulary as well)\n",
    "        if cache_file is not None:\n",
    "            vocabulary = vectorizer.vocabulary_\n",
    "            cache_data = dict(features_train=features_train, features_test=features_test,\n",
    "                             vocabulary=vocabulary)\n",
    "            with open(os.path.join(cache_dir, cache_file), \"wb\") as f:\n",
    "                joblib.dump(cache_data, f)\n",
    "            print(\"Wrote features to cache file:\", cache_file)\n",
    "    else:\n",
    "        # Unpack data loaded from cache file\n",
    "        features_train, features_test, vocabulary = (cache_data['features_train'],\n",
    "                cache_data['features_test'], cache_data['vocabulary'])\n",
    "    \n",
    "    # Return both the extracted features as well as the vocabulary\n",
    "    return features_train, features_test, vocabulary"
   ]
  },
  {
   "cell_type": "code",
   "execution_count": 13,
   "metadata": {},
   "outputs": [
    {
     "name": "stdout",
     "output_type": "stream",
     "text": [
      "Wrote features to cache file: bow_features.pkl\n"
     ]
    }
   ],
   "source": [
    "# Extract Bag of Words features for both training and test datasets\n",
    "train_X, test_X, vocabulary = extract_BoW_features(train_X, test_X)"
   ]
  },
  {
   "cell_type": "markdown",
   "metadata": {},
   "source": [
    "## Step 4: Classification using XGBoost\n",
    "\n",
    "Now that we have created the feature representation of our training (and testing) data, it is time to start setting up and using the XGBoost classifier provided by SageMaker.\n",
    "\n",
    "### Writing the dataset\n",
    "\n",
    "The XGBoost classifier that we will be using requires the dataset to be written to a file and stored using Amazon S3. To do this, we will start by splitting the training dataset into two parts, the data we will train the model with and a validation set. Then, we will write those datasets to a file and upload the files to S3. In addition, we will write the test set input to a file and upload the file to S3. This is so that we can use SageMakers Batch Transform functionality to test our model once we've fit it."
   ]
  },
  {
   "cell_type": "code",
   "execution_count": 14,
   "metadata": {},
   "outputs": [],
   "source": [
    "import pandas as pd\n",
    "\n",
    "val_X = pd.DataFrame(train_X[:10000])\n",
    "train_X = pd.DataFrame(train_X[10000:])\n",
    "\n",
    "val_y = pd.DataFrame(train_y[:10000])\n",
    "train_y = pd.DataFrame(train_y[10000:])\n",
    "\n",
    "test_y = pd.DataFrame(test_y)\n",
    "test_X = pd.DataFrame(test_X)"
   ]
  },
  {
   "cell_type": "markdown",
   "metadata": {},
   "source": [
    "The documentation for the XGBoost algorithm in SageMaker requires that the saved datasets should contain no headers or index and that for the training and validation data, the label should occur first for each sample.\n",
    "\n",
    "For more information about this and other algorithms, the SageMaker developer documentation can be found on __[Amazon's website.](https://docs.aws.amazon.com/sagemaker/latest/dg/)__"
   ]
  },
  {
   "cell_type": "code",
   "execution_count": 15,
   "metadata": {},
   "outputs": [],
   "source": [
    "# First we make sure that the local directory in which we'd like to store the training and validation csv files exists.\n",
    "data_dir = '../data/xgboost'\n",
    "if not os.path.exists(data_dir):\n",
    "    os.makedirs(data_dir)"
   ]
  },
  {
   "cell_type": "code",
   "execution_count": 16,
   "metadata": {},
   "outputs": [],
   "source": [
    "# First, save the test data to test.csv in the data_dir directory. Note that we do not save the associated ground truth\n",
    "# labels, instead we will use them later to compare with our model output.\n",
    "\n",
    "pd.concat([test_y, test_X], axis=1).to_csv(os.path.join(data_dir, 'test.csv'), header=False, index=False)\n",
    "pd.concat([val_y, val_X], axis=1).to_csv(os.path.join(data_dir, 'validation.csv'), header=False, index=False)\n",
    "pd.concat([train_y, train_X], axis=1).to_csv(os.path.join(data_dir, 'train.csv'), header=False, index=False)"
   ]
  },
  {
   "cell_type": "code",
   "execution_count": 17,
   "metadata": {},
   "outputs": [],
   "source": [
    "# To save a bit of memory we can set text_X, train_X, val_X, train_y and val_y to None.\n",
    "\n",
    "train_X = val_X = train_y = val_y = None"
   ]
  },
  {
   "cell_type": "code",
   "execution_count": 35,
   "metadata": {},
   "outputs": [],
   "source": [
    "pd.DataFrame(test_X).to_csv(os.path.join(data_dir, 'test.csv'), header=False, index=False)"
   ]
  },
  {
   "cell_type": "markdown",
   "metadata": {},
   "source": [
    "### Uploading Training / Validation files to S3\n",
    "\n",
    "Amazon's S3 service allows us to store files that can be access by both the built-in training models such as the XGBoost model we will be using as well as custom models such as the one we will see a little later.\n",
    "\n",
    "For this, and most other tasks we will be doing using SageMaker, there are two methods we could use. The first is to use the low level functionality of SageMaker which requires knowing each of the objects involved in the SageMaker environment. The second is to use the high level functionality in which certain choices have been made on the user's behalf. The low level approach benefits from allowing the user a great deal of flexibility while the high level approach makes development much quicker. For our purposes we will opt to use the high level approach although using the low-level approach is certainly an option.\n",
    "\n",
    "Recall the method `upload_data()` which is a member of object representing our current SageMaker session. What this method does is upload the data to the default bucket (which is created if it does not exist) into the path described by the key_prefix variable. To see this for yourself, once you have uploaded the data files, go to the S3 console and look to see where the files have been uploaded.\n",
    "\n",
    "For additional resources, see the __[SageMaker API documentation](http://sagemaker.readthedocs.io/en/latest/)__ and in addition the __[SageMaker Developer Guide.](https://docs.aws.amazon.com/sagemaker/latest/dg/)__"
   ]
  },
  {
   "cell_type": "code",
   "execution_count": 18,
   "metadata": {},
   "outputs": [],
   "source": [
    "import sagemaker\n",
    "\n",
    "session = sagemaker.Session() # Store the current SageMaker session\n",
    "\n",
    "# S3 prefix (which folder will we use)\n",
    "prefix = 'sentiment-xgboost'\n",
    "\n",
    "test_location = session.upload_data(os.path.join(data_dir, 'test.csv'), key_prefix=prefix)\n",
    "val_location = session.upload_data(os.path.join(data_dir, 'validation.csv'), key_prefix=prefix)\n",
    "train_location = session.upload_data(os.path.join(data_dir, 'train.csv'), key_prefix=prefix)"
   ]
  },
  {
   "cell_type": "code",
   "execution_count": 38,
   "metadata": {},
   "outputs": [],
   "source": [
    "test_location2 = session.upload_data(os.path.join(data_dir, 'test.csv'), key_prefix=prefix)"
   ]
  },
  {
   "cell_type": "markdown",
   "metadata": {},
   "source": [
    "### (TODO) Creating a hypertuned XGBoost model\n",
    "\n",
    "Now that the data has been uploaded it is time to create the XGBoost model. As in the Boston Housing notebook, the first step is to create an estimator object which will be used as the *base* of your hyperparameter tuning job."
   ]
  },
  {
   "cell_type": "code",
   "execution_count": 19,
   "metadata": {},
   "outputs": [],
   "source": [
    "from sagemaker import get_execution_role\n",
    "\n",
    "# Our current execution role is require when creating the model as the training\n",
    "# and inference code will need to access the model artifacts.\n",
    "role = get_execution_role()"
   ]
  },
  {
   "cell_type": "code",
   "execution_count": 20,
   "metadata": {},
   "outputs": [
    {
     "name": "stderr",
     "output_type": "stream",
     "text": [
      "'get_image_uri' method will be deprecated in favor of 'ImageURIProvider' class in SageMaker Python SDK v2.\n",
      "There is a more up to date SageMaker XGBoost image. To use the newer image, please set 'repo_version'='1.0-1'. For example:\n",
      "\tget_image_uri(region, 'xgboost', '1.0-1').\n"
     ]
    }
   ],
   "source": [
    "# We need to retrieve the location of the container which is provided by Amazon for using XGBoost.\n",
    "# As a matter of convenience, the training and inference code both use the same container.\n",
    "from sagemaker.amazon.amazon_estimator import get_image_uri\n",
    "\n",
    "container = get_image_uri(session.boto_region_name, 'xgboost')"
   ]
  },
  {
   "cell_type": "code",
   "execution_count": 21,
   "metadata": {},
   "outputs": [
    {
     "name": "stderr",
     "output_type": "stream",
     "text": [
      "Parameter image_name will be renamed to image_uri in SageMaker Python SDK v2.\n"
     ]
    }
   ],
   "source": [
    "# TODO: Create a SageMaker estimator using the container location determined in the previous cell.\n",
    "#       It is recommended that you use a single training instance of type ml.m4.xlarge. It is also\n",
    "#       recommended that you use 's3://{}/{}/output'.format(session.default_bucket(), prefix) as the\n",
    "#       output path.\n",
    "\n",
    "xgb = sagemaker.estimator.Estimator(container, # The name of the training container\n",
    "                                    role,      # The IAM role to use (our current role in this case)\n",
    "                                    train_instance_count=1, # The number of instances to use for training\n",
    "                                    train_instance_type='ml.m4.xlarge', # The type of instance ot use for training\n",
    "                                    output_path='s3://{}/{}/output'.format(session.default_bucket(), prefix),\n",
    "                                                                        # Where to save the output (the model artifacts)\n",
    "                                    sagemaker_session=session) # The current SageMaker session\n",
    "\n",
    "# TODO: Set the XGBoost hyperparameters in the xgb object. Don't forget that in this case we have a binary\n",
    "#       label so we should be using the 'binary:logistic' objective.\n",
    "\n",
    "xgb.set_hyperparameters(max_depth=5,\n",
    "                        eta=0.2,\n",
    "                        gamma=4,\n",
    "                        min_child_weight=6,\n",
    "                        subsample=0.8,\n",
    "                        objective='binary:logistic',\n",
    "                        early_stopping_rounds=10,\n",
    "                        num_round=200)"
   ]
  },
  {
   "cell_type": "markdown",
   "metadata": {},
   "source": [
    "### (TODO) Create the hyperparameter tuner\n",
    "\n",
    "Now that the base estimator has been set up we need to construct a hyperparameter tuner object which we will use to request SageMaker construct a hyperparameter tuning job.\n",
    "\n",
    "**Note:** Training a single sentiment analysis XGBoost model takes longer than training a Boston Housing XGBoost model so if you don't want the hyperparameter tuning job to take too long, make sure to not set the total number of models (jobs) too high."
   ]
  },
  {
   "cell_type": "code",
   "execution_count": 22,
   "metadata": {},
   "outputs": [],
   "source": [
    "# First, make sure to import the relevant objects used to construct the tuner\n",
    "from sagemaker.tuner import IntegerParameter, ContinuousParameter, HyperparameterTuner\n",
    "\n",
    "# TODO: Create the hyperparameter tuner object\n",
    "\n",
    "xgb_hyperparameter_tuner = HyperparameterTuner(estimator = xgb, # The estimator object to use as the basis for the training jobs.\n",
    "                                               objective_metric_name = 'validation:rmse', # The metric used to compare trained models.\n",
    "                                               objective_type = 'Minimize', # Whether we wish to minimize or maximize the metric.\n",
    "                                               max_jobs = 20, # The total number of models to train\n",
    "                                               max_parallel_jobs = 3, # The number of models to train in parallel\n",
    "                                               hyperparameter_ranges = {\n",
    "                                                    'max_depth': IntegerParameter(3, 12),\n",
    "                                                    'eta'      : ContinuousParameter(0.05, 0.5),\n",
    "                                                    'min_child_weight': IntegerParameter(2, 8),\n",
    "                                                    'subsample': ContinuousParameter(0.5, 0.9),\n",
    "                                                    'gamma': ContinuousParameter(0, 10),\n",
    "                                               })\n",
    "\n"
   ]
  },
  {
   "cell_type": "markdown",
   "metadata": {},
   "source": [
    "### Fit the hyperparameter tuner\n",
    "\n",
    "Now that the hyperparameter tuner object has been constructed, it is time to fit the various models and find the best performing model."
   ]
  },
  {
   "cell_type": "code",
   "execution_count": 23,
   "metadata": {},
   "outputs": [
    {
     "name": "stderr",
     "output_type": "stream",
     "text": [
      "'s3_input' class will be renamed to 'TrainingInput' in SageMaker Python SDK v2.\n",
      "'s3_input' class will be renamed to 'TrainingInput' in SageMaker Python SDK v2.\n"
     ]
    }
   ],
   "source": [
    "s3_input_train = sagemaker.s3_input(s3_data=train_location, content_type='csv')\n",
    "s3_input_validation = sagemaker.s3_input(s3_data=val_location, content_type='csv')"
   ]
  },
  {
   "cell_type": "code",
   "execution_count": 24,
   "metadata": {},
   "outputs": [],
   "source": [
    "xgb_hyperparameter_tuner.fit({'train': s3_input_train, 'validation': s3_input_validation})"
   ]
  },
  {
   "cell_type": "markdown",
   "metadata": {},
   "source": [
    "Remember that the tuning job is constructed and run in the background so if we want to see the progress of our training job we need to call the `wait()` method."
   ]
  },
  {
   "cell_type": "code",
   "execution_count": null,
   "metadata": {},
   "outputs": [
    {
     "name": "stdout",
     "output_type": "stream",
     "text": [
      "...............................................................................................................................................................................................................................................................................................................................................................................................................................................................................................................................................................................................................................................................................................................................................................................................................................................................................................!\n"
     ]
    }
   ],
   "source": [
    "xgb_hyperparameter_tuner.wait()"
   ]
  },
  {
   "cell_type": "markdown",
   "metadata": {},
   "source": [
    "### (TODO) Testing the model\n",
    "\n",
    "Now that we've run our hyperparameter tuning job, it's time to see how well the best performing model actually performs. To do this we will use SageMaker's Batch Transform functionality. Batch Transform is a convenient way to perform inference on a large dataset in a way that is not realtime. That is, we don't necessarily need to use our model's results immediately and instead we can peform inference on a large number of samples. An example of this in industry might be peforming an end of month report. This method of inference can also be useful to us as it means to can perform inference on our entire test set. \n",
    "\n",
    "Remember that in order to create a transformer object to perform the batch transform job, we need a trained estimator object. We can do that using the `attach()` method, creating an estimator object which is attached to the best trained job."
   ]
  },
  {
   "cell_type": "code",
   "execution_count": 30,
   "metadata": {},
   "outputs": [
    {
     "data": {
      "text/plain": [
       "'xgboost-210111-0101-019-9b44a8b5'"
      ]
     },
     "execution_count": 30,
     "metadata": {},
     "output_type": "execute_result"
    }
   ],
   "source": [
    "xgb_hyperparameter_tuner.best_training_job()"
   ]
  },
  {
   "cell_type": "code",
   "execution_count": 31,
   "metadata": {},
   "outputs": [
    {
     "name": "stderr",
     "output_type": "stream",
     "text": [
      "Parameter image_name will be renamed to image_uri in SageMaker Python SDK v2.\n"
     ]
    },
    {
     "name": "stdout",
     "output_type": "stream",
     "text": [
      "2021-01-11 02:11:17 Starting - Preparing the instances for training\n",
      "2021-01-11 02:11:17 Downloading - Downloading input data\n",
      "2021-01-11 02:11:17 Training - Training image download completed. Training in progress.\n",
      "2021-01-11 02:11:17 Uploading - Uploading generated training model\n",
      "2021-01-11 02:11:17 Completed - Training job completed\u001b[34mArguments: train\u001b[0m\n",
      "\u001b[34m[2021-01-11:02:03:18:INFO] Running standalone xgboost training.\u001b[0m\n",
      "\u001b[34m[2021-01-11:02:03:18:INFO] Setting up HPO optimized metric to be : rmse\u001b[0m\n",
      "\u001b[34m[2021-01-11:02:03:18:INFO] File size need to be processed in the node: 238.47mb. Available memory size in the node: 8412.5mb\u001b[0m\n",
      "\u001b[34m[2021-01-11:02:03:18:INFO] Determined delimiter of CSV input is ','\u001b[0m\n",
      "\u001b[34m[02:03:18] S3DistributionType set as FullyReplicated\u001b[0m\n",
      "\u001b[34m[02:03:20] 15000x5000 matrix with 75000000 entries loaded from /opt/ml/input/data/train?format=csv&label_column=0&delimiter=,\u001b[0m\n",
      "\u001b[34m[2021-01-11:02:03:20:INFO] Determined delimiter of CSV input is ','\u001b[0m\n",
      "\u001b[34m[02:03:20] S3DistributionType set as FullyReplicated\u001b[0m\n",
      "\u001b[34m[02:03:21] 10000x5000 matrix with 50000000 entries loaded from /opt/ml/input/data/validation?format=csv&label_column=0&delimiter=,\u001b[0m\n",
      "\u001b[34m[02:03:26] src/tree/updater_prune.cc:74: tree pruning end, 1 roots, 202 extra nodes, 34 pruned nodes, max_depth=11\u001b[0m\n",
      "\u001b[34m[0]#011train-rmse:0.457777#011validation-rmse:0.462082\u001b[0m\n",
      "\u001b[34mMultiple eval metrics have been passed: 'validation-rmse' will be used for early stopping.\n",
      "\u001b[0m\n",
      "\u001b[34mWill train until validation-rmse hasn't improved in 10 rounds.\u001b[0m\n",
      "\u001b[34m[02:03:29] src/tree/updater_prune.cc:74: tree pruning end, 1 roots, 158 extra nodes, 38 pruned nodes, max_depth=11\u001b[0m\n",
      "\u001b[34m[1]#011train-rmse:0.431939#011validation-rmse:0.440164\u001b[0m\n",
      "\u001b[34m[02:03:32] src/tree/updater_prune.cc:74: tree pruning end, 1 roots, 148 extra nodes, 32 pruned nodes, max_depth=11\u001b[0m\n",
      "\u001b[34m[2]#011train-rmse:0.41382#011validation-rmse:0.425736\u001b[0m\n",
      "\u001b[34m[02:03:34] src/tree/updater_prune.cc:74: tree pruning end, 1 roots, 122 extra nodes, 52 pruned nodes, max_depth=11\u001b[0m\n",
      "\u001b[34m[3]#011train-rmse:0.400749#011validation-rmse:0.415166\u001b[0m\n",
      "\u001b[34m[02:03:37] src/tree/updater_prune.cc:74: tree pruning end, 1 roots, 190 extra nodes, 34 pruned nodes, max_depth=11\u001b[0m\n",
      "\u001b[34m[4]#011train-rmse:0.38737#011validation-rmse:0.406475\u001b[0m\n",
      "\u001b[34m[02:03:40] src/tree/updater_prune.cc:74: tree pruning end, 1 roots, 152 extra nodes, 28 pruned nodes, max_depth=11\u001b[0m\n",
      "\u001b[34m[5]#011train-rmse:0.377112#011validation-rmse:0.398814\u001b[0m\n",
      "\u001b[34m[02:03:42] src/tree/updater_prune.cc:74: tree pruning end, 1 roots, 132 extra nodes, 28 pruned nodes, max_depth=11\u001b[0m\n",
      "\u001b[34m[6]#011train-rmse:0.368681#011validation-rmse:0.392586\u001b[0m\n",
      "\u001b[34m[02:03:45] src/tree/updater_prune.cc:74: tree pruning end, 1 roots, 114 extra nodes, 30 pruned nodes, max_depth=11\u001b[0m\n",
      "\u001b[34m[7]#011train-rmse:0.360976#011validation-rmse:0.387219\u001b[0m\n",
      "\u001b[34m[02:03:47] src/tree/updater_prune.cc:74: tree pruning end, 1 roots, 102 extra nodes, 24 pruned nodes, max_depth=11\u001b[0m\n",
      "\u001b[34m[8]#011train-rmse:0.353966#011validation-rmse:0.382287\u001b[0m\n",
      "\u001b[34m[02:03:50] src/tree/updater_prune.cc:74: tree pruning end, 1 roots, 80 extra nodes, 30 pruned nodes, max_depth=11\u001b[0m\n",
      "\u001b[34m[9]#011train-rmse:0.347931#011validation-rmse:0.377626\u001b[0m\n",
      "\u001b[34m[02:03:53] src/tree/updater_prune.cc:74: tree pruning end, 1 roots, 86 extra nodes, 32 pruned nodes, max_depth=11\u001b[0m\n",
      "\u001b[34m[10]#011train-rmse:0.342438#011validation-rmse:0.373974\u001b[0m\n",
      "\u001b[34m[02:03:55] src/tree/updater_prune.cc:74: tree pruning end, 1 roots, 102 extra nodes, 38 pruned nodes, max_depth=11\u001b[0m\n",
      "\u001b[34m[11]#011train-rmse:0.336921#011validation-rmse:0.370193\u001b[0m\n",
      "\u001b[34m[02:03:58] src/tree/updater_prune.cc:74: tree pruning end, 1 roots, 140 extra nodes, 42 pruned nodes, max_depth=11\u001b[0m\n",
      "\u001b[34m[12]#011train-rmse:0.330331#011validation-rmse:0.366732\u001b[0m\n",
      "\u001b[34m[02:04:00] src/tree/updater_prune.cc:74: tree pruning end, 1 roots, 116 extra nodes, 48 pruned nodes, max_depth=11\u001b[0m\n",
      "\u001b[34m[13]#011train-rmse:0.324931#011validation-rmse:0.364569\u001b[0m\n",
      "\u001b[34m[02:04:03] src/tree/updater_prune.cc:74: tree pruning end, 1 roots, 90 extra nodes, 32 pruned nodes, max_depth=11\u001b[0m\n",
      "\u001b[34m[14]#011train-rmse:0.32038#011validation-rmse:0.362151\u001b[0m\n",
      "\u001b[34m[02:04:06] src/tree/updater_prune.cc:74: tree pruning end, 1 roots, 104 extra nodes, 32 pruned nodes, max_depth=11\u001b[0m\n",
      "\u001b[34m[15]#011train-rmse:0.316044#011validation-rmse:0.359988\u001b[0m\n",
      "\u001b[34m[02:04:08] src/tree/updater_prune.cc:74: tree pruning end, 1 roots, 86 extra nodes, 20 pruned nodes, max_depth=11\u001b[0m\n",
      "\u001b[34m[16]#011train-rmse:0.312159#011validation-rmse:0.357721\u001b[0m\n",
      "\u001b[34m[02:04:11] src/tree/updater_prune.cc:74: tree pruning end, 1 roots, 66 extra nodes, 30 pruned nodes, max_depth=11\u001b[0m\n",
      "\u001b[34m[17]#011train-rmse:0.308817#011validation-rmse:0.355731\u001b[0m\n",
      "\u001b[34m[02:04:13] src/tree/updater_prune.cc:74: tree pruning end, 1 roots, 82 extra nodes, 28 pruned nodes, max_depth=11\u001b[0m\n",
      "\u001b[34m[18]#011train-rmse:0.30529#011validation-rmse:0.354072\u001b[0m\n",
      "\u001b[34m[02:04:16] src/tree/updater_prune.cc:74: tree pruning end, 1 roots, 92 extra nodes, 28 pruned nodes, max_depth=11\u001b[0m\n",
      "\u001b[34m[19]#011train-rmse:0.30145#011validation-rmse:0.352204\u001b[0m\n",
      "\u001b[34m[02:04:19] src/tree/updater_prune.cc:74: tree pruning end, 1 roots, 74 extra nodes, 28 pruned nodes, max_depth=11\u001b[0m\n",
      "\u001b[34m[20]#011train-rmse:0.298404#011validation-rmse:0.350013\u001b[0m\n",
      "\u001b[34m[02:04:21] src/tree/updater_prune.cc:74: tree pruning end, 1 roots, 66 extra nodes, 22 pruned nodes, max_depth=11\u001b[0m\n",
      "\u001b[34m[21]#011train-rmse:0.295573#011validation-rmse:0.347954\u001b[0m\n",
      "\u001b[34m[02:04:24] src/tree/updater_prune.cc:74: tree pruning end, 1 roots, 84 extra nodes, 24 pruned nodes, max_depth=11\u001b[0m\n",
      "\u001b[34m[22]#011train-rmse:0.29249#011validation-rmse:0.346516\u001b[0m\n",
      "\u001b[34m[02:04:26] src/tree/updater_prune.cc:74: tree pruning end, 1 roots, 62 extra nodes, 20 pruned nodes, max_depth=11\u001b[0m\n",
      "\u001b[34m[23]#011train-rmse:0.289898#011validation-rmse:0.345344\u001b[0m\n",
      "\u001b[34m[02:04:29] src/tree/updater_prune.cc:74: tree pruning end, 1 roots, 74 extra nodes, 20 pruned nodes, max_depth=11\u001b[0m\n",
      "\u001b[34m[24]#011train-rmse:0.287498#011validation-rmse:0.344327\u001b[0m\n",
      "\u001b[34m[02:04:32] src/tree/updater_prune.cc:74: tree pruning end, 1 roots, 90 extra nodes, 40 pruned nodes, max_depth=11\u001b[0m\n",
      "\u001b[34m[25]#011train-rmse:0.284197#011validation-rmse:0.342904\u001b[0m\n",
      "\u001b[34m[02:04:34] src/tree/updater_prune.cc:74: tree pruning end, 1 roots, 46 extra nodes, 26 pruned nodes, max_depth=11\u001b[0m\n",
      "\u001b[34m[26]#011train-rmse:0.282377#011validation-rmse:0.342163\u001b[0m\n",
      "\u001b[34m[02:04:37] src/tree/updater_prune.cc:74: tree pruning end, 1 roots, 86 extra nodes, 20 pruned nodes, max_depth=11\u001b[0m\n",
      "\u001b[34m[27]#011train-rmse:0.279289#011validation-rmse:0.34114\u001b[0m\n",
      "\u001b[34m[02:04:40] src/tree/updater_prune.cc:74: tree pruning end, 1 roots, 86 extra nodes, 34 pruned nodes, max_depth=11\u001b[0m\n",
      "\u001b[34m[28]#011train-rmse:0.276537#011validation-rmse:0.340229\u001b[0m\n",
      "\u001b[34m[02:04:42] src/tree/updater_prune.cc:74: tree pruning end, 1 roots, 44 extra nodes, 24 pruned nodes, max_depth=11\u001b[0m\n",
      "\u001b[34m[29]#011train-rmse:0.274679#011validation-rmse:0.339108\u001b[0m\n",
      "\u001b[34m[02:04:45] src/tree/updater_prune.cc:74: tree pruning end, 1 roots, 40 extra nodes, 28 pruned nodes, max_depth=11\u001b[0m\n",
      "\u001b[34m[30]#011train-rmse:0.273015#011validation-rmse:0.337625\u001b[0m\n",
      "\u001b[34m[02:04:47] src/tree/updater_prune.cc:74: tree pruning end, 1 roots, 60 extra nodes, 36 pruned nodes, max_depth=11\u001b[0m\n",
      "\u001b[34m[31]#011train-rmse:0.270904#011validation-rmse:0.337058\u001b[0m\n",
      "\u001b[34m[02:04:50] src/tree/updater_prune.cc:74: tree pruning end, 1 roots, 44 extra nodes, 22 pruned nodes, max_depth=11\u001b[0m\n",
      "\u001b[34m[32]#011train-rmse:0.269245#011validation-rmse:0.336211\u001b[0m\n",
      "\u001b[34m[02:04:52] src/tree/updater_prune.cc:74: tree pruning end, 1 roots, 76 extra nodes, 12 pruned nodes, max_depth=11\u001b[0m\n",
      "\u001b[34m[33]#011train-rmse:0.266585#011validation-rmse:0.33551\u001b[0m\n",
      "\u001b[34m[02:04:55] src/tree/updater_prune.cc:74: tree pruning end, 1 roots, 58 extra nodes, 22 pruned nodes, max_depth=11\u001b[0m\n",
      "\u001b[34m[34]#011train-rmse:0.264513#011validation-rmse:0.334422\u001b[0m\n",
      "\u001b[34m[02:04:58] src/tree/updater_prune.cc:74: tree pruning end, 1 roots, 52 extra nodes, 26 pruned nodes, max_depth=11\u001b[0m\n",
      "\u001b[34m[35]#011train-rmse:0.262804#011validation-rmse:0.333626\u001b[0m\n",
      "\u001b[34m[02:05:00] src/tree/updater_prune.cc:74: tree pruning end, 1 roots, 58 extra nodes, 22 pruned nodes, max_depth=11\u001b[0m\n",
      "\u001b[34m[36]#011train-rmse:0.260725#011validation-rmse:0.332941\u001b[0m\n",
      "\u001b[34m[02:05:03] src/tree/updater_prune.cc:74: tree pruning end, 1 roots, 60 extra nodes, 38 pruned nodes, max_depth=11\u001b[0m\n",
      "\u001b[34m[37]#011train-rmse:0.258769#011validation-rmse:0.331667\u001b[0m\n",
      "\u001b[34m[02:05:05] src/tree/updater_prune.cc:74: tree pruning end, 1 roots, 26 extra nodes, 14 pruned nodes, max_depth=11\u001b[0m\n",
      "\u001b[34m[38]#011train-rmse:0.257719#011validation-rmse:0.331209\u001b[0m\n",
      "\u001b[34m[02:05:08] src/tree/updater_prune.cc:74: tree pruning end, 1 roots, 50 extra nodes, 26 pruned nodes, max_depth=11\u001b[0m\n",
      "\u001b[34m[39]#011train-rmse:0.255928#011validation-rmse:0.330775\u001b[0m\n",
      "\u001b[34m[02:05:11] src/tree/updater_prune.cc:74: tree pruning end, 1 roots, 90 extra nodes, 28 pruned nodes, max_depth=11\u001b[0m\n",
      "\u001b[34m[40]#011train-rmse:0.253425#011validation-rmse:0.330296\u001b[0m\n",
      "\u001b[34m[02:05:13] src/tree/updater_prune.cc:74: tree pruning end, 1 roots, 58 extra nodes, 24 pruned nodes, max_depth=11\u001b[0m\n",
      "\u001b[34m[41]#011train-rmse:0.251808#011validation-rmse:0.329669\u001b[0m\n",
      "\u001b[34m[02:05:16] src/tree/updater_prune.cc:74: tree pruning end, 1 roots, 44 extra nodes, 16 pruned nodes, max_depth=11\u001b[0m\n",
      "\u001b[34m[42]#011train-rmse:0.250452#011validation-rmse:0.329147\u001b[0m\n",
      "\u001b[34m[02:05:18] src/tree/updater_prune.cc:74: tree pruning end, 1 roots, 42 extra nodes, 14 pruned nodes, max_depth=11\u001b[0m\n",
      "\u001b[34m[43]#011train-rmse:0.249113#011validation-rmse:0.328274\u001b[0m\n",
      "\u001b[34m[02:05:21] src/tree/updater_prune.cc:74: tree pruning end, 1 roots, 28 extra nodes, 12 pruned nodes, max_depth=11\u001b[0m\n",
      "\u001b[34m[44]#011train-rmse:0.248032#011validation-rmse:0.327844\u001b[0m\n",
      "\u001b[34m[02:05:24] src/tree/updater_prune.cc:74: tree pruning end, 1 roots, 70 extra nodes, 24 pruned nodes, max_depth=11\u001b[0m\n",
      "\u001b[34m[45]#011train-rmse:0.246126#011validation-rmse:0.327421\u001b[0m\n",
      "\u001b[34m[02:05:26] src/tree/updater_prune.cc:74: tree pruning end, 1 roots, 58 extra nodes, 32 pruned nodes, max_depth=11\u001b[0m\n",
      "\u001b[34m[46]#011train-rmse:0.244554#011validation-rmse:0.32699\u001b[0m\n",
      "\u001b[34m[02:05:29] src/tree/updater_prune.cc:74: tree pruning end, 1 roots, 38 extra nodes, 22 pruned nodes, max_depth=11\u001b[0m\n",
      "\u001b[34m[47]#011train-rmse:0.243319#011validation-rmse:0.326298\u001b[0m\n",
      "\u001b[34m[02:05:31] src/tree/updater_prune.cc:74: tree pruning end, 1 roots, 46 extra nodes, 24 pruned nodes, max_depth=11\u001b[0m\n",
      "\u001b[34m[48]#011train-rmse:0.242047#011validation-rmse:0.325875\u001b[0m\n",
      "\u001b[34m[02:05:34] src/tree/updater_prune.cc:74: tree pruning end, 1 roots, 58 extra nodes, 26 pruned nodes, max_depth=11\u001b[0m\n",
      "\u001b[34m[49]#011train-rmse:0.240358#011validation-rmse:0.325389\u001b[0m\n",
      "\u001b[34m[02:05:37] src/tree/updater_prune.cc:74: tree pruning end, 1 roots, 40 extra nodes, 36 pruned nodes, max_depth=11\u001b[0m\n",
      "\u001b[34m[50]#011train-rmse:0.239395#011validation-rmse:0.324669\u001b[0m\n",
      "\u001b[34m[02:05:39] src/tree/updater_prune.cc:74: tree pruning end, 1 roots, 58 extra nodes, 14 pruned nodes, max_depth=11\u001b[0m\n",
      "\u001b[34m[51]#011train-rmse:0.237946#011validation-rmse:0.324173\u001b[0m\n",
      "\u001b[34m[02:05:42] src/tree/updater_prune.cc:74: tree pruning end, 1 roots, 42 extra nodes, 20 pruned nodes, max_depth=11\u001b[0m\n",
      "\u001b[34m[52]#011train-rmse:0.236861#011validation-rmse:0.323962\u001b[0m\n",
      "\u001b[34m[02:05:45] src/tree/updater_prune.cc:74: tree pruning end, 1 roots, 40 extra nodes, 24 pruned nodes, max_depth=11\u001b[0m\n",
      "\u001b[34m[53]#011train-rmse:0.235652#011validation-rmse:0.323985\u001b[0m\n",
      "\u001b[34m[02:05:47] src/tree/updater_prune.cc:74: tree pruning end, 1 roots, 62 extra nodes, 26 pruned nodes, max_depth=11\u001b[0m\n",
      "\u001b[34m[54]#011train-rmse:0.234049#011validation-rmse:0.323608\u001b[0m\n",
      "\u001b[34m[02:05:50] src/tree/updater_prune.cc:74: tree pruning end, 1 roots, 54 extra nodes, 24 pruned nodes, max_depth=11\u001b[0m\n",
      "\u001b[34m[55]#011train-rmse:0.23268#011validation-rmse:0.323168\u001b[0m\n",
      "\u001b[34m[02:05:52] src/tree/updater_prune.cc:74: tree pruning end, 1 roots, 50 extra nodes, 22 pruned nodes, max_depth=11\u001b[0m\n",
      "\u001b[34m[56]#011train-rmse:0.231383#011validation-rmse:0.322976\u001b[0m\n",
      "\u001b[34m[02:05:55] src/tree/updater_prune.cc:74: tree pruning end, 1 roots, 50 extra nodes, 26 pruned nodes, max_depth=11\u001b[0m\n",
      "\u001b[34m[57]#011train-rmse:0.230245#011validation-rmse:0.322669\u001b[0m\n",
      "\u001b[34m[02:05:58] src/tree/updater_prune.cc:74: tree pruning end, 1 roots, 34 extra nodes, 12 pruned nodes, max_depth=11\u001b[0m\n",
      "\u001b[34m[58]#011train-rmse:0.229291#011validation-rmse:0.322261\u001b[0m\n",
      "\u001b[34m[02:06:00] src/tree/updater_prune.cc:74: tree pruning end, 1 roots, 36 extra nodes, 28 pruned nodes, max_depth=11\u001b[0m\n",
      "\u001b[34m[59]#011train-rmse:0.228246#011validation-rmse:0.322063\u001b[0m\n",
      "\u001b[34m[02:06:03] src/tree/updater_prune.cc:74: tree pruning end, 1 roots, 36 extra nodes, 24 pruned nodes, max_depth=11\u001b[0m\n",
      "\u001b[34m[60]#011train-rmse:0.227369#011validation-rmse:0.321837\u001b[0m\n",
      "\u001b[34m[02:06:06] src/tree/updater_prune.cc:74: tree pruning end, 1 roots, 30 extra nodes, 16 pruned nodes, max_depth=11\u001b[0m\n",
      "\u001b[34m[61]#011train-rmse:0.226409#011validation-rmse:0.321743\u001b[0m\n",
      "\u001b[34m[02:06:08] src/tree/updater_prune.cc:74: tree pruning end, 1 roots, 44 extra nodes, 26 pruned nodes, max_depth=11\u001b[0m\n",
      "\u001b[34m[62]#011train-rmse:0.225142#011validation-rmse:0.321295\u001b[0m\n",
      "\u001b[34m[02:06:11] src/tree/updater_prune.cc:74: tree pruning end, 1 roots, 54 extra nodes, 28 pruned nodes, max_depth=11\u001b[0m\n",
      "\u001b[34m[63]#011train-rmse:0.2238#011validation-rmse:0.321445\u001b[0m\n",
      "\u001b[34m[02:06:13] src/tree/updater_prune.cc:74: tree pruning end, 1 roots, 56 extra nodes, 36 pruned nodes, max_depth=11\u001b[0m\n",
      "\u001b[34m[64]#011train-rmse:0.22247#011validation-rmse:0.321213\u001b[0m\n",
      "\u001b[34m[02:06:16] src/tree/updater_prune.cc:74: tree pruning end, 1 roots, 34 extra nodes, 24 pruned nodes, max_depth=11\u001b[0m\n",
      "\u001b[34m[65]#011train-rmse:0.221681#011validation-rmse:0.320727\u001b[0m\n",
      "\u001b[34m[02:06:19] src/tree/updater_prune.cc:74: tree pruning end, 1 roots, 48 extra nodes, 30 pruned nodes, max_depth=11\u001b[0m\n",
      "\u001b[34m[66]#011train-rmse:0.220631#011validation-rmse:0.320552\u001b[0m\n",
      "\u001b[34m[02:06:21] src/tree/updater_prune.cc:74: tree pruning end, 1 roots, 30 extra nodes, 18 pruned nodes, max_depth=11\u001b[0m\n",
      "\u001b[34m[67]#011train-rmse:0.219964#011validation-rmse:0.320047\u001b[0m\n",
      "\u001b[34m[02:06:24] src/tree/updater_prune.cc:74: tree pruning end, 1 roots, 28 extra nodes, 10 pruned nodes, max_depth=11\u001b[0m\n",
      "\u001b[34m[68]#011train-rmse:0.219286#011validation-rmse:0.319724\u001b[0m\n",
      "\u001b[34m[02:06:26] src/tree/updater_prune.cc:74: tree pruning end, 1 roots, 48 extra nodes, 26 pruned nodes, max_depth=11\u001b[0m\n",
      "\u001b[34m[69]#011train-rmse:0.218272#011validation-rmse:0.319508\u001b[0m\n",
      "\u001b[34m[02:06:29] src/tree/updater_prune.cc:74: tree pruning end, 1 roots, 46 extra nodes, 30 pruned nodes, max_depth=11\u001b[0m\n",
      "\u001b[34m[70]#011train-rmse:0.217141#011validation-rmse:0.319384\u001b[0m\n",
      "\u001b[34m[02:06:32] src/tree/updater_prune.cc:74: tree pruning end, 1 roots, 36 extra nodes, 24 pruned nodes, max_depth=11\u001b[0m\n",
      "\u001b[34m[71]#011train-rmse:0.216378#011validation-rmse:0.319188\u001b[0m\n",
      "\u001b[34m[02:06:34] src/tree/updater_prune.cc:74: tree pruning end, 1 roots, 30 extra nodes, 26 pruned nodes, max_depth=11\u001b[0m\n",
      "\u001b[34m[72]#011train-rmse:0.215719#011validation-rmse:0.318685\u001b[0m\n",
      "\u001b[34m[02:06:37] src/tree/updater_prune.cc:74: tree pruning end, 1 roots, 50 extra nodes, 36 pruned nodes, max_depth=11\u001b[0m\n",
      "\u001b[34m[73]#011train-rmse:0.214547#011validation-rmse:0.318462\u001b[0m\n",
      "\u001b[34m[02:06:40] src/tree/updater_prune.cc:74: tree pruning end, 1 roots, 42 extra nodes, 22 pruned nodes, max_depth=11\u001b[0m\n",
      "\u001b[34m[74]#011train-rmse:0.213641#011validation-rmse:0.31822\u001b[0m\n",
      "\u001b[34m[02:06:42] src/tree/updater_prune.cc:74: tree pruning end, 1 roots, 46 extra nodes, 18 pruned nodes, max_depth=11\u001b[0m\n",
      "\u001b[34m[75]#011train-rmse:0.212368#011validation-rmse:0.317688\u001b[0m\n",
      "\u001b[34m[02:06:45] src/tree/updater_prune.cc:74: tree pruning end, 1 roots, 40 extra nodes, 12 pruned nodes, max_depth=11\u001b[0m\n",
      "\u001b[34m[76]#011train-rmse:0.211515#011validation-rmse:0.317459\u001b[0m\n",
      "\u001b[34m[02:06:47] src/tree/updater_prune.cc:74: tree pruning end, 1 roots, 30 extra nodes, 14 pruned nodes, max_depth=11\u001b[0m\n",
      "\u001b[34m[77]#011train-rmse:0.210877#011validation-rmse:0.317458\u001b[0m\n",
      "\u001b[34m[02:06:50] src/tree/updater_prune.cc:74: tree pruning end, 1 roots, 38 extra nodes, 32 pruned nodes, max_depth=11\u001b[0m\n",
      "\u001b[34m[78]#011train-rmse:0.209983#011validation-rmse:0.31743\u001b[0m\n",
      "\u001b[34m[02:06:53] src/tree/updater_prune.cc:74: tree pruning end, 1 roots, 34 extra nodes, 20 pruned nodes, max_depth=11\u001b[0m\n",
      "\u001b[34m[79]#011train-rmse:0.209216#011validation-rmse:0.317397\u001b[0m\n",
      "\u001b[34m[02:06:55] src/tree/updater_prune.cc:74: tree pruning end, 1 roots, 40 extra nodes, 16 pruned nodes, max_depth=11\u001b[0m\n",
      "\u001b[34m[80]#011train-rmse:0.208221#011validation-rmse:0.317262\u001b[0m\n",
      "\u001b[34m[02:06:58] src/tree/updater_prune.cc:74: tree pruning end, 1 roots, 32 extra nodes, 16 pruned nodes, max_depth=11\u001b[0m\n",
      "\u001b[34m[81]#011train-rmse:0.207681#011validation-rmse:0.317258\u001b[0m\n",
      "\u001b[34m[02:07:00] src/tree/updater_prune.cc:74: tree pruning end, 1 roots, 30 extra nodes, 24 pruned nodes, max_depth=11\u001b[0m\n",
      "\u001b[34m[82]#011train-rmse:0.206892#011validation-rmse:0.316987\u001b[0m\n",
      "\u001b[34m[02:07:03] src/tree/updater_prune.cc:74: tree pruning end, 1 roots, 32 extra nodes, 20 pruned nodes, max_depth=11\u001b[0m\n",
      "\u001b[34m[83]#011train-rmse:0.206257#011validation-rmse:0.316704\u001b[0m\n",
      "\u001b[34m[02:07:06] src/tree/updater_prune.cc:74: tree pruning end, 1 roots, 48 extra nodes, 34 pruned nodes, max_depth=11\u001b[0m\n",
      "\u001b[34m[84]#011train-rmse:0.205226#011validation-rmse:0.316212\u001b[0m\n",
      "\u001b[34m[02:07:08] src/tree/updater_prune.cc:74: tree pruning end, 1 roots, 40 extra nodes, 26 pruned nodes, max_depth=11\u001b[0m\n",
      "\u001b[34m[85]#011train-rmse:0.204248#011validation-rmse:0.316049\u001b[0m\n",
      "\u001b[34m[02:07:11] src/tree/updater_prune.cc:74: tree pruning end, 1 roots, 24 extra nodes, 6 pruned nodes, max_depth=11\u001b[0m\n",
      "\u001b[34m[86]#011train-rmse:0.203766#011validation-rmse:0.315845\u001b[0m\n",
      "\u001b[34m[02:07:13] src/tree/updater_prune.cc:74: tree pruning end, 1 roots, 32 extra nodes, 12 pruned nodes, max_depth=11\u001b[0m\n",
      "\u001b[34m[87]#011train-rmse:0.203047#011validation-rmse:0.315799\u001b[0m\n",
      "\u001b[34m[02:07:16] src/tree/updater_prune.cc:74: tree pruning end, 1 roots, 28 extra nodes, 26 pruned nodes, max_depth=11\u001b[0m\n",
      "\u001b[34m[88]#011train-rmse:0.202492#011validation-rmse:0.315332\u001b[0m\n",
      "\u001b[34m[02:07:19] src/tree/updater_prune.cc:74: tree pruning end, 1 roots, 38 extra nodes, 22 pruned nodes, max_depth=11\u001b[0m\n",
      "\u001b[34m[89]#011train-rmse:0.201822#011validation-rmse:0.315104\u001b[0m\n",
      "\u001b[34m[02:07:21] src/tree/updater_prune.cc:74: tree pruning end, 1 roots, 24 extra nodes, 12 pruned nodes, max_depth=11\u001b[0m\n",
      "\u001b[34m[90]#011train-rmse:0.201385#011validation-rmse:0.315083\u001b[0m\n",
      "\u001b[34m[02:07:24] src/tree/updater_prune.cc:74: tree pruning end, 1 roots, 32 extra nodes, 24 pruned nodes, max_depth=11\u001b[0m\n",
      "\u001b[34m[91]#011train-rmse:0.200734#011validation-rmse:0.314982\u001b[0m\n",
      "\u001b[34m[02:07:26] src/tree/updater_prune.cc:74: tree pruning end, 1 roots, 26 extra nodes, 18 pruned nodes, max_depth=11\u001b[0m\n",
      "\u001b[34m[92]#011train-rmse:0.200266#011validation-rmse:0.314714\u001b[0m\n",
      "\u001b[34m[02:07:29] src/tree/updater_prune.cc:74: tree pruning end, 1 roots, 46 extra nodes, 30 pruned nodes, max_depth=11\u001b[0m\n",
      "\u001b[34m[93]#011train-rmse:0.199318#011validation-rmse:0.314463\u001b[0m\n",
      "\u001b[34m[02:07:32] src/tree/updater_prune.cc:74: tree pruning end, 1 roots, 58 extra nodes, 14 pruned nodes, max_depth=11\u001b[0m\n",
      "\u001b[34m[94]#011train-rmse:0.198174#011validation-rmse:0.314285\u001b[0m\n",
      "\u001b[34m[02:07:34] src/tree/updater_prune.cc:74: tree pruning end, 1 roots, 50 extra nodes, 30 pruned nodes, max_depth=11\u001b[0m\n",
      "\u001b[34m[95]#011train-rmse:0.197003#011validation-rmse:0.31427\u001b[0m\n",
      "\u001b[34m[02:07:37] src/tree/updater_prune.cc:74: tree pruning end, 1 roots, 46 extra nodes, 20 pruned nodes, max_depth=11\u001b[0m\n",
      "\u001b[34m[96]#011train-rmse:0.196112#011validation-rmse:0.31396\u001b[0m\n",
      "\u001b[34m[02:07:39] src/tree/updater_prune.cc:74: tree pruning end, 1 roots, 32 extra nodes, 34 pruned nodes, max_depth=11\u001b[0m\n",
      "\u001b[34m[97]#011train-rmse:0.195476#011validation-rmse:0.313888\u001b[0m\n",
      "\u001b[34m[02:07:42] src/tree/updater_prune.cc:74: tree pruning end, 1 roots, 32 extra nodes, 34 pruned nodes, max_depth=11\u001b[0m\n",
      "\u001b[34m[98]#011train-rmse:0.19487#011validation-rmse:0.31363\u001b[0m\n",
      "\u001b[34m[02:07:45] src/tree/updater_prune.cc:74: tree pruning end, 1 roots, 36 extra nodes, 20 pruned nodes, max_depth=11\u001b[0m\n",
      "\u001b[34m[99]#011train-rmse:0.194164#011validation-rmse:0.313536\u001b[0m\n",
      "\u001b[34m[02:07:47] src/tree/updater_prune.cc:74: tree pruning end, 1 roots, 48 extra nodes, 32 pruned nodes, max_depth=11\u001b[0m\n",
      "\u001b[34m[100]#011train-rmse:0.193096#011validation-rmse:0.313565\u001b[0m\n",
      "\u001b[34m[02:07:50] src/tree/updater_prune.cc:74: tree pruning end, 1 roots, 44 extra nodes, 30 pruned nodes, max_depth=11\u001b[0m\n",
      "\u001b[34m[101]#011train-rmse:0.192195#011validation-rmse:0.313638\u001b[0m\n",
      "\u001b[34m[02:07:52] src/tree/updater_prune.cc:74: tree pruning end, 1 roots, 30 extra nodes, 20 pruned nodes, max_depth=11\u001b[0m\n",
      "\u001b[34m[102]#011train-rmse:0.191624#011validation-rmse:0.313379\u001b[0m\n",
      "\u001b[34m[02:07:55] src/tree/updater_prune.cc:74: tree pruning end, 1 roots, 28 extra nodes, 26 pruned nodes, max_depth=11\u001b[0m\n",
      "\u001b[34m[103]#011train-rmse:0.191168#011validation-rmse:0.31326\u001b[0m\n",
      "\u001b[34m[02:07:58] src/tree/updater_prune.cc:74: tree pruning end, 1 roots, 50 extra nodes, 38 pruned nodes, max_depth=11\u001b[0m\n",
      "\u001b[34m[104]#011train-rmse:0.190058#011validation-rmse:0.313104\u001b[0m\n",
      "\u001b[34m[02:08:00] src/tree/updater_prune.cc:74: tree pruning end, 1 roots, 32 extra nodes, 18 pruned nodes, max_depth=11\u001b[0m\n",
      "\u001b[34m[105]#011train-rmse:0.189503#011validation-rmse:0.313157\u001b[0m\n",
      "\u001b[34m[02:08:03] src/tree/updater_prune.cc:74: tree pruning end, 1 roots, 26 extra nodes, 24 pruned nodes, max_depth=11\u001b[0m\n",
      "\u001b[34m[106]#011train-rmse:0.189179#011validation-rmse:0.312957\u001b[0m\n",
      "\u001b[34m[02:08:05] src/tree/updater_prune.cc:74: tree pruning end, 1 roots, 26 extra nodes, 8 pruned nodes, max_depth=11\u001b[0m\n",
      "\u001b[34m[107]#011train-rmse:0.188796#011validation-rmse:0.312719\u001b[0m\n",
      "\u001b[34m[02:08:08] src/tree/updater_prune.cc:74: tree pruning end, 1 roots, 28 extra nodes, 12 pruned nodes, max_depth=11\u001b[0m\n",
      "\u001b[34m[108]#011train-rmse:0.188286#011validation-rmse:0.31269\u001b[0m\n",
      "\u001b[34m[02:08:11] src/tree/updater_prune.cc:74: tree pruning end, 1 roots, 38 extra nodes, 26 pruned nodes, max_depth=11\u001b[0m\n",
      "\u001b[34m[109]#011train-rmse:0.187618#011validation-rmse:0.312474\u001b[0m\n",
      "\u001b[34m[02:08:13] src/tree/updater_prune.cc:74: tree pruning end, 1 roots, 36 extra nodes, 20 pruned nodes, max_depth=11\u001b[0m\n",
      "\u001b[34m[110]#011train-rmse:0.186954#011validation-rmse:0.31253\u001b[0m\n",
      "\u001b[34m[02:08:16] src/tree/updater_prune.cc:74: tree pruning end, 1 roots, 24 extra nodes, 20 pruned nodes, max_depth=11\u001b[0m\n",
      "\u001b[34m[111]#011train-rmse:0.186532#011validation-rmse:0.312438\u001b[0m\n",
      "\u001b[34m[02:08:18] src/tree/updater_prune.cc:74: tree pruning end, 1 roots, 24 extra nodes, 12 pruned nodes, max_depth=11\u001b[0m\n",
      "\u001b[34m[112]#011train-rmse:0.186082#011validation-rmse:0.312202\u001b[0m\n",
      "\u001b[34m[02:08:21] src/tree/updater_prune.cc:74: tree pruning end, 1 roots, 30 extra nodes, 34 pruned nodes, max_depth=11\u001b[0m\n",
      "\u001b[34m[113]#011train-rmse:0.185495#011validation-rmse:0.312227\u001b[0m\n",
      "\u001b[34m[02:08:24] src/tree/updater_prune.cc:74: tree pruning end, 1 roots, 36 extra nodes, 10 pruned nodes, max_depth=11\u001b[0m\n",
      "\u001b[34m[114]#011train-rmse:0.184872#011validation-rmse:0.312063\u001b[0m\n",
      "\u001b[34m[02:08:26] src/tree/updater_prune.cc:74: tree pruning end, 1 roots, 24 extra nodes, 14 pruned nodes, max_depth=11\u001b[0m\n",
      "\u001b[34m[115]#011train-rmse:0.184481#011validation-rmse:0.311992\u001b[0m\n",
      "\u001b[34m[02:08:29] src/tree/updater_prune.cc:74: tree pruning end, 1 roots, 34 extra nodes, 34 pruned nodes, max_depth=11\u001b[0m\n",
      "\u001b[34m[116]#011train-rmse:0.18376#011validation-rmse:0.311958\u001b[0m\n",
      "\u001b[34m[02:08:31] src/tree/updater_prune.cc:74: tree pruning end, 1 roots, 22 extra nodes, 10 pruned nodes, max_depth=11\u001b[0m\n"
     ]
    },
    {
     "name": "stdout",
     "output_type": "stream",
     "text": [
      "\u001b[34m[117]#011train-rmse:0.183517#011validation-rmse:0.311894\u001b[0m\n",
      "\u001b[34m[02:08:34] src/tree/updater_prune.cc:74: tree pruning end, 1 roots, 42 extra nodes, 50 pruned nodes, max_depth=11\u001b[0m\n",
      "\u001b[34m[118]#011train-rmse:0.182663#011validation-rmse:0.311917\u001b[0m\n",
      "\u001b[34m[02:08:37] src/tree/updater_prune.cc:74: tree pruning end, 1 roots, 36 extra nodes, 22 pruned nodes, max_depth=11\u001b[0m\n",
      "\u001b[34m[119]#011train-rmse:0.182094#011validation-rmse:0.311968\u001b[0m\n",
      "\u001b[34m[02:08:39] src/tree/updater_prune.cc:74: tree pruning end, 1 roots, 30 extra nodes, 32 pruned nodes, max_depth=11\u001b[0m\n",
      "\u001b[34m[120]#011train-rmse:0.181637#011validation-rmse:0.311888\u001b[0m\n",
      "\u001b[34m[02:08:42] src/tree/updater_prune.cc:74: tree pruning end, 1 roots, 24 extra nodes, 8 pruned nodes, max_depth=11\u001b[0m\n",
      "\u001b[34m[121]#011train-rmse:0.181318#011validation-rmse:0.311871\u001b[0m\n",
      "\u001b[34m[02:08:45] src/tree/updater_prune.cc:74: tree pruning end, 1 roots, 30 extra nodes, 32 pruned nodes, max_depth=11\u001b[0m\n",
      "\u001b[34m[122]#011train-rmse:0.180755#011validation-rmse:0.311924\u001b[0m\n",
      "\u001b[34m[02:08:47] src/tree/updater_prune.cc:74: tree pruning end, 1 roots, 22 extra nodes, 8 pruned nodes, max_depth=11\u001b[0m\n",
      "\u001b[34m[123]#011train-rmse:0.180425#011validation-rmse:0.311764\u001b[0m\n",
      "\u001b[34m[02:08:50] src/tree/updater_prune.cc:74: tree pruning end, 1 roots, 52 extra nodes, 42 pruned nodes, max_depth=11\u001b[0m\n",
      "\u001b[34m[124]#011train-rmse:0.179468#011validation-rmse:0.311732\u001b[0m\n",
      "\u001b[34m[02:08:52] src/tree/updater_prune.cc:74: tree pruning end, 1 roots, 28 extra nodes, 28 pruned nodes, max_depth=11\u001b[0m\n",
      "\u001b[34m[125]#011train-rmse:0.178981#011validation-rmse:0.311581\u001b[0m\n",
      "\u001b[34m[02:08:55] src/tree/updater_prune.cc:74: tree pruning end, 1 roots, 34 extra nodes, 32 pruned nodes, max_depth=11\u001b[0m\n",
      "\u001b[34m[126]#011train-rmse:0.178477#011validation-rmse:0.311549\u001b[0m\n",
      "\u001b[34m[02:08:58] src/tree/updater_prune.cc:74: tree pruning end, 1 roots, 26 extra nodes, 14 pruned nodes, max_depth=11\u001b[0m\n",
      "\u001b[34m[127]#011train-rmse:0.178164#011validation-rmse:0.311581\u001b[0m\n",
      "\u001b[34m[02:09:00] src/tree/updater_prune.cc:74: tree pruning end, 1 roots, 22 extra nodes, 28 pruned nodes, max_depth=11\u001b[0m\n",
      "\u001b[34m[128]#011train-rmse:0.177916#011validation-rmse:0.3116\u001b[0m\n",
      "\u001b[34m[02:09:03] src/tree/updater_prune.cc:74: tree pruning end, 1 roots, 26 extra nodes, 18 pruned nodes, max_depth=11\u001b[0m\n",
      "\u001b[34m[129]#011train-rmse:0.17757#011validation-rmse:0.311512\u001b[0m\n",
      "\u001b[34m[02:09:06] src/tree/updater_prune.cc:74: tree pruning end, 1 roots, 30 extra nodes, 20 pruned nodes, max_depth=11\u001b[0m\n",
      "\u001b[34m[130]#011train-rmse:0.177033#011validation-rmse:0.31154\u001b[0m\n",
      "\u001b[34m[02:09:08] src/tree/updater_prune.cc:74: tree pruning end, 1 roots, 38 extra nodes, 26 pruned nodes, max_depth=11\u001b[0m\n",
      "\u001b[34m[131]#011train-rmse:0.176288#011validation-rmse:0.311692\u001b[0m\n",
      "\u001b[34m[02:09:11] src/tree/updater_prune.cc:74: tree pruning end, 1 roots, 24 extra nodes, 10 pruned nodes, max_depth=11\u001b[0m\n",
      "\u001b[34m[132]#011train-rmse:0.175973#011validation-rmse:0.311581\u001b[0m\n",
      "\u001b[34m[02:09:13] src/tree/updater_prune.cc:74: tree pruning end, 1 roots, 26 extra nodes, 10 pruned nodes, max_depth=11\u001b[0m\n",
      "\u001b[34m[133]#011train-rmse:0.175723#011validation-rmse:0.311645\u001b[0m\n",
      "\u001b[34m[02:09:16] src/tree/updater_prune.cc:74: tree pruning end, 1 roots, 30 extra nodes, 8 pruned nodes, max_depth=11\u001b[0m\n",
      "\u001b[34m[134]#011train-rmse:0.175338#011validation-rmse:0.311556\u001b[0m\n",
      "\u001b[34m[02:09:19] src/tree/updater_prune.cc:74: tree pruning end, 1 roots, 48 extra nodes, 24 pruned nodes, max_depth=11\u001b[0m\n",
      "\u001b[34m[135]#011train-rmse:0.174373#011validation-rmse:0.311587\u001b[0m\n",
      "\u001b[34m[02:09:21] src/tree/updater_prune.cc:74: tree pruning end, 1 roots, 22 extra nodes, 22 pruned nodes, max_depth=11\u001b[0m\n",
      "\u001b[34m[136]#011train-rmse:0.174172#011validation-rmse:0.311606\u001b[0m\n",
      "\u001b[34m[02:09:24] src/tree/updater_prune.cc:74: tree pruning end, 1 roots, 26 extra nodes, 30 pruned nodes, max_depth=11\u001b[0m\n",
      "\u001b[34m[137]#011train-rmse:0.173788#011validation-rmse:0.311652\u001b[0m\n",
      "\u001b[34m[02:09:27] src/tree/updater_prune.cc:74: tree pruning end, 1 roots, 28 extra nodes, 2 pruned nodes, max_depth=11\u001b[0m\n",
      "\u001b[34m[138]#011train-rmse:0.173335#011validation-rmse:0.311546\u001b[0m\n",
      "\u001b[34m[02:09:29] src/tree/updater_prune.cc:74: tree pruning end, 1 roots, 24 extra nodes, 18 pruned nodes, max_depth=11\u001b[0m\n",
      "\u001b[34m[139]#011train-rmse:0.173013#011validation-rmse:0.311505\u001b[0m\n",
      "\u001b[34m[02:09:32] src/tree/updater_prune.cc:74: tree pruning end, 1 roots, 22 extra nodes, 20 pruned nodes, max_depth=11\u001b[0m\n",
      "\u001b[34m[140]#011train-rmse:0.172709#011validation-rmse:0.3116\u001b[0m\n",
      "\u001b[34m[02:09:34] src/tree/updater_prune.cc:74: tree pruning end, 1 roots, 20 extra nodes, 16 pruned nodes, max_depth=10\u001b[0m\n",
      "\u001b[34m[141]#011train-rmse:0.172575#011validation-rmse:0.311629\u001b[0m\n",
      "\u001b[34m[02:09:37] src/tree/updater_prune.cc:74: tree pruning end, 1 roots, 22 extra nodes, 20 pruned nodes, max_depth=11\u001b[0m\n",
      "\u001b[34m[142]#011train-rmse:0.172316#011validation-rmse:0.311585\u001b[0m\n",
      "\u001b[34m[02:09:40] src/tree/updater_prune.cc:74: tree pruning end, 1 roots, 34 extra nodes, 40 pruned nodes, max_depth=11\u001b[0m\n",
      "\u001b[34m[143]#011train-rmse:0.171595#011validation-rmse:0.311606\u001b[0m\n",
      "\u001b[34m[02:09:42] src/tree/updater_prune.cc:74: tree pruning end, 1 roots, 40 extra nodes, 34 pruned nodes, max_depth=11\u001b[0m\n",
      "\u001b[34m[144]#011train-rmse:0.170956#011validation-rmse:0.311601\u001b[0m\n",
      "\u001b[34m[02:09:45] src/tree/updater_prune.cc:74: tree pruning end, 1 roots, 28 extra nodes, 38 pruned nodes, max_depth=11\u001b[0m\n",
      "\u001b[34m[145]#011train-rmse:0.170465#011validation-rmse:0.311737\u001b[0m\n",
      "\u001b[34m[02:09:48] src/tree/updater_prune.cc:74: tree pruning end, 1 roots, 36 extra nodes, 38 pruned nodes, max_depth=8\u001b[0m\n",
      "\u001b[34m[146]#011train-rmse:0.169781#011validation-rmse:0.311647\u001b[0m\n",
      "\u001b[34m[02:09:50] src/tree/updater_prune.cc:74: tree pruning end, 1 roots, 28 extra nodes, 26 pruned nodes, max_depth=11\u001b[0m\n",
      "\u001b[34m[147]#011train-rmse:0.169415#011validation-rmse:0.311574\u001b[0m\n",
      "\u001b[34m[02:09:53] src/tree/updater_prune.cc:74: tree pruning end, 1 roots, 26 extra nodes, 34 pruned nodes, max_depth=10\u001b[0m\n",
      "\u001b[34m[148]#011train-rmse:0.16904#011validation-rmse:0.311496\u001b[0m\n",
      "\u001b[34m[02:09:56] src/tree/updater_prune.cc:74: tree pruning end, 1 roots, 44 extra nodes, 40 pruned nodes, max_depth=11\u001b[0m\n",
      "\u001b[34m[149]#011train-rmse:0.168193#011validation-rmse:0.311426\u001b[0m\n",
      "\u001b[34m[02:09:58] src/tree/updater_prune.cc:74: tree pruning end, 1 roots, 22 extra nodes, 30 pruned nodes, max_depth=11\u001b[0m\n",
      "\u001b[34m[150]#011train-rmse:0.167915#011validation-rmse:0.311458\u001b[0m\n",
      "\u001b[34m[02:10:01] src/tree/updater_prune.cc:74: tree pruning end, 1 roots, 28 extra nodes, 22 pruned nodes, max_depth=10\u001b[0m\n",
      "\u001b[34m[151]#011train-rmse:0.167452#011validation-rmse:0.311608\u001b[0m\n",
      "\u001b[34m[02:10:04] src/tree/updater_prune.cc:74: tree pruning end, 1 roots, 34 extra nodes, 10 pruned nodes, max_depth=11\u001b[0m\n",
      "\u001b[34m[152]#011train-rmse:0.166925#011validation-rmse:0.311501\u001b[0m\n",
      "\u001b[34m[02:10:06] src/tree/updater_prune.cc:74: tree pruning end, 1 roots, 30 extra nodes, 28 pruned nodes, max_depth=11\u001b[0m\n",
      "\u001b[34m[153]#011train-rmse:0.166505#011validation-rmse:0.311504\u001b[0m\n",
      "\u001b[34m[02:10:09] src/tree/updater_prune.cc:74: tree pruning end, 1 roots, 32 extra nodes, 12 pruned nodes, max_depth=11\u001b[0m\n",
      "\u001b[34m[154]#011train-rmse:0.16596#011validation-rmse:0.311423\u001b[0m\n",
      "\u001b[34m[02:10:11] src/tree/updater_prune.cc:74: tree pruning end, 1 roots, 26 extra nodes, 28 pruned nodes, max_depth=11\u001b[0m\n",
      "\u001b[34m[155]#011train-rmse:0.165594#011validation-rmse:0.311653\u001b[0m\n",
      "\u001b[34m[02:10:14] src/tree/updater_prune.cc:74: tree pruning end, 1 roots, 26 extra nodes, 40 pruned nodes, max_depth=8\u001b[0m\n",
      "\u001b[34m[156]#011train-rmse:0.165182#011validation-rmse:0.311582\u001b[0m\n",
      "\u001b[34m[02:10:17] src/tree/updater_prune.cc:74: tree pruning end, 1 roots, 0 extra nodes, 40 pruned nodes, max_depth=0\u001b[0m\n",
      "\u001b[34m[157]#011train-rmse:0.165195#011validation-rmse:0.311582\u001b[0m\n",
      "\u001b[34m[02:10:19] src/tree/updater_prune.cc:74: tree pruning end, 1 roots, 36 extra nodes, 22 pruned nodes, max_depth=11\u001b[0m\n",
      "\u001b[34m[158]#011train-rmse:0.164814#011validation-rmse:0.311561\u001b[0m\n",
      "\u001b[34m[02:10:22] src/tree/updater_prune.cc:74: tree pruning end, 1 roots, 26 extra nodes, 16 pruned nodes, max_depth=11\u001b[0m\n",
      "\u001b[34m[159]#011train-rmse:0.164452#011validation-rmse:0.311592\u001b[0m\n",
      "\u001b[34m[02:10:25] src/tree/updater_prune.cc:74: tree pruning end, 1 roots, 0 extra nodes, 30 pruned nodes, max_depth=0\u001b[0m\n",
      "\u001b[34m[160]#011train-rmse:0.164456#011validation-rmse:0.311592\u001b[0m\n",
      "\u001b[34m[02:10:27] src/tree/updater_prune.cc:74: tree pruning end, 1 roots, 0 extra nodes, 46 pruned nodes, max_depth=0\u001b[0m\n",
      "\u001b[34m[161]#011train-rmse:0.164438#011validation-rmse:0.31159\u001b[0m\n",
      "\u001b[34m[02:10:30] src/tree/updater_prune.cc:74: tree pruning end, 1 roots, 26 extra nodes, 14 pruned nodes, max_depth=11\u001b[0m\n",
      "\u001b[34m[162]#011train-rmse:0.164095#011validation-rmse:0.3114\u001b[0m\n",
      "\u001b[34m[02:10:33] src/tree/updater_prune.cc:74: tree pruning end, 1 roots, 24 extra nodes, 10 pruned nodes, max_depth=11\u001b[0m\n",
      "\u001b[34m[163]#011train-rmse:0.163744#011validation-rmse:0.311476\u001b[0m\n",
      "\u001b[34m[02:10:35] src/tree/updater_prune.cc:74: tree pruning end, 1 roots, 26 extra nodes, 20 pruned nodes, max_depth=11\u001b[0m\n",
      "\u001b[34m[164]#011train-rmse:0.16339#011validation-rmse:0.31144\u001b[0m\n",
      "\u001b[34m[02:10:38] src/tree/updater_prune.cc:74: tree pruning end, 1 roots, 24 extra nodes, 20 pruned nodes, max_depth=11\u001b[0m\n",
      "\u001b[34m[165]#011train-rmse:0.163014#011validation-rmse:0.311437\u001b[0m\n",
      "\u001b[34m[02:10:40] src/tree/updater_prune.cc:74: tree pruning end, 1 roots, 22 extra nodes, 10 pruned nodes, max_depth=11\u001b[0m\n",
      "\u001b[34m[166]#011train-rmse:0.162753#011validation-rmse:0.31133\u001b[0m\n",
      "\u001b[34m[02:10:43] src/tree/updater_prune.cc:74: tree pruning end, 1 roots, 34 extra nodes, 58 pruned nodes, max_depth=11\u001b[0m\n",
      "\u001b[34m[167]#011train-rmse:0.162145#011validation-rmse:0.311389\u001b[0m\n",
      "\u001b[34m[02:10:46] src/tree/updater_prune.cc:74: tree pruning end, 1 roots, 22 extra nodes, 36 pruned nodes, max_depth=10\u001b[0m\n",
      "\u001b[34m[168]#011train-rmse:0.161821#011validation-rmse:0.311386\u001b[0m\n",
      "\u001b[34m[02:10:48] src/tree/updater_prune.cc:74: tree pruning end, 1 roots, 22 extra nodes, 26 pruned nodes, max_depth=11\u001b[0m\n",
      "\u001b[34m[169]#011train-rmse:0.161538#011validation-rmse:0.311537\u001b[0m\n",
      "\u001b[34m[02:10:51] src/tree/updater_prune.cc:74: tree pruning end, 1 roots, 14 extra nodes, 60 pruned nodes, max_depth=6\u001b[0m\n",
      "\u001b[34m[170]#011train-rmse:0.161382#011validation-rmse:0.311463\u001b[0m\n",
      "\u001b[34m[02:10:54] src/tree/updater_prune.cc:74: tree pruning end, 1 roots, 32 extra nodes, 32 pruned nodes, max_depth=11\u001b[0m\n",
      "\u001b[34m[171]#011train-rmse:0.160944#011validation-rmse:0.311469\u001b[0m\n",
      "\u001b[34m[02:10:57] src/tree/updater_prune.cc:74: tree pruning end, 1 roots, 22 extra nodes, 28 pruned nodes, max_depth=11\u001b[0m\n",
      "\u001b[34m[172]#011train-rmse:0.160639#011validation-rmse:0.311505\u001b[0m\n",
      "\u001b[34m[02:10:59] src/tree/updater_prune.cc:74: tree pruning end, 1 roots, 14 extra nodes, 36 pruned nodes, max_depth=7\u001b[0m\n",
      "\u001b[34m[173]#011train-rmse:0.160537#011validation-rmse:0.311574\u001b[0m\n",
      "\u001b[34m[02:11:02] src/tree/updater_prune.cc:74: tree pruning end, 1 roots, 30 extra nodes, 42 pruned nodes, max_depth=11\u001b[0m\n",
      "\u001b[34m[174]#011train-rmse:0.16007#011validation-rmse:0.31159\u001b[0m\n",
      "\u001b[34m[02:11:05] src/tree/updater_prune.cc:74: tree pruning end, 1 roots, 12 extra nodes, 42 pruned nodes, max_depth=6\u001b[0m\n",
      "\u001b[34m[175]#011train-rmse:0.15991#011validation-rmse:0.311534\u001b[0m\n",
      "\u001b[34m[02:11:07] src/tree/updater_prune.cc:74: tree pruning end, 1 roots, 16 extra nodes, 26 pruned nodes, max_depth=6\u001b[0m\n",
      "\u001b[34m[176]#011train-rmse:0.159721#011validation-rmse:0.311513\u001b[0m\n",
      "\u001b[34mStopping. Best iteration:\u001b[0m\n",
      "\u001b[34m[166]#011train-rmse:0.162753#011validation-rmse:0.31133\n",
      "\u001b[0m\n",
      "Training seconds: 530\n",
      "Billable seconds: 530\n"
     ]
    }
   ],
   "source": [
    "# TODO: Create a new estimator object attached to the best training job found during hyperparameter tuning\n",
    "\n",
    "xgb_attached = sagemaker.estimator.Estimator.attach(xgb_hyperparameter_tuner.best_training_job())\n"
   ]
  },
  {
   "cell_type": "markdown",
   "metadata": {},
   "source": [
    "Now that we have an estimator object attached to the correct training job, we can proceed as we normally would and create a transformer object."
   ]
  },
  {
   "cell_type": "code",
   "execution_count": 32,
   "metadata": {},
   "outputs": [
    {
     "name": "stderr",
     "output_type": "stream",
     "text": [
      "Parameter image will be renamed to image_uri in SageMaker Python SDK v2.\n",
      "Using already existing model: xgboost-210111-0101-019-9b44a8b5\n"
     ]
    }
   ],
   "source": [
    "# TODO: Create a transformer object from the attached estimator. Using an instance count of 1 and an instance type of ml.m4.xlarge\n",
    "#       should be more than enough.\n",
    "\n",
    "#xgb_transformer = None\n",
    "xgb_transformer = xgb_attached.transformer(instance_count = 1, instance_type = 'ml.m4.xlarge')\n"
   ]
  },
  {
   "cell_type": "markdown",
   "metadata": {},
   "source": [
    "Next we actually perform the transform job. When doing so we need to make sure to specify the type of data we are sending so that it is serialized correctly in the background. In our case we are providing our model with csv data so we specify `text/csv`. Also, if the test data that we have provided is too large to process all at once then we need to specify how the data file should be split up. Since each line is a single entry in our data set we tell SageMaker that it can split the input on each line."
   ]
  },
  {
   "cell_type": "code",
   "execution_count": 39,
   "metadata": {},
   "outputs": [],
   "source": [
    "# TODO: Start the transform job. Make sure to specify the content type and the split type of the test data.\n",
    "xgb_transformer.transform(test_location2, content_type='text/csv', split_type='Line')"
   ]
  },
  {
   "cell_type": "markdown",
   "metadata": {},
   "source": [
    "Currently the transform job is running but it is doing so in the background. Since we wish to wait until the transform job is done and we would like a bit of feedback we can run the `wait()` method."
   ]
  },
  {
   "cell_type": "code",
   "execution_count": 40,
   "metadata": {},
   "outputs": [
    {
     "name": "stdout",
     "output_type": "stream",
     "text": [
      "..............................\u001b[32m2021-01-11T04:39:07.222:[sagemaker logs]: MaxConcurrentTransforms=4, MaxPayloadInMB=6, BatchStrategy=MULTI_RECORD\u001b[0m\n",
      "\u001b[34mArguments: serve\u001b[0m\n",
      "\u001b[34m[2021-01-11 04:39:07 +0000] [1] [INFO] Starting gunicorn 19.7.1\u001b[0m\n",
      "\u001b[34m[2021-01-11 04:39:07 +0000] [1] [INFO] Listening at: http://0.0.0.0:8080 (1)\u001b[0m\n",
      "\u001b[34m[2021-01-11 04:39:07 +0000] [1] [INFO] Using worker: gevent\u001b[0m\n",
      "\u001b[34m[2021-01-11 04:39:07 +0000] [37] [INFO] Booting worker with pid: 37\u001b[0m\n",
      "\u001b[34m[2021-01-11 04:39:07 +0000] [38] [INFO] Booting worker with pid: 38\u001b[0m\n",
      "\u001b[34m[2021-01-11 04:39:07 +0000] [39] [INFO] Booting worker with pid: 39\u001b[0m\n",
      "\u001b[34m[2021-01-11:04:39:07:INFO] Model loaded successfully for worker : 37\u001b[0m\n",
      "\u001b[34m[2021-01-11:04:39:07:INFO] Model loaded successfully for worker : 38\u001b[0m\n",
      "\u001b[34m[2021-01-11 04:39:07 +0000] [40] [INFO] Booting worker with pid: 40\u001b[0m\n",
      "\u001b[34m[2021-01-11:04:39:07:INFO] Model loaded successfully for worker : 39\u001b[0m\n",
      "\u001b[35mArguments: serve\u001b[0m\n",
      "\u001b[35m[2021-01-11 04:39:07 +0000] [1] [INFO] Starting gunicorn 19.7.1\u001b[0m\n",
      "\u001b[35m[2021-01-11 04:39:07 +0000] [1] [INFO] Listening at: http://0.0.0.0:8080 (1)\u001b[0m\n",
      "\u001b[35m[2021-01-11 04:39:07 +0000] [1] [INFO] Using worker: gevent\u001b[0m\n",
      "\u001b[35m[2021-01-11 04:39:07 +0000] [37] [INFO] Booting worker with pid: 37\u001b[0m\n",
      "\u001b[35m[2021-01-11 04:39:07 +0000] [38] [INFO] Booting worker with pid: 38\u001b[0m\n",
      "\u001b[35m[2021-01-11 04:39:07 +0000] [39] [INFO] Booting worker with pid: 39\u001b[0m\n",
      "\u001b[35m[2021-01-11:04:39:07:INFO] Model loaded successfully for worker : 37\u001b[0m\n",
      "\u001b[35m[2021-01-11:04:39:07:INFO] Model loaded successfully for worker : 38\u001b[0m\n",
      "\u001b[35m[2021-01-11 04:39:07 +0000] [40] [INFO] Booting worker with pid: 40\u001b[0m\n",
      "\u001b[35m[2021-01-11:04:39:07:INFO] Model loaded successfully for worker : 39\u001b[0m\n",
      "\u001b[34m[2021-01-11:04:39:07:INFO] Model loaded successfully for worker : 40\u001b[0m\n",
      "\u001b[34m[2021-01-11:04:39:07:INFO] Sniff delimiter as ','\u001b[0m\n",
      "\u001b[34m[2021-01-11:04:39:07:INFO] Determined delimiter of CSV input is ','\u001b[0m\n",
      "\u001b[34m[2021-01-11:04:39:07:INFO] Sniff delimiter as ','\u001b[0m\n",
      "\u001b[34m[2021-01-11:04:39:07:INFO] Determined delimiter of CSV input is ','\u001b[0m\n",
      "\u001b[34m[2021-01-11:04:39:07:INFO] Sniff delimiter as ','\u001b[0m\n",
      "\u001b[34m[2021-01-11:04:39:07:INFO] Determined delimiter of CSV input is ','\u001b[0m\n",
      "\u001b[34m[2021-01-11:04:39:07:INFO] Sniff delimiter as ','\u001b[0m\n",
      "\u001b[34m[2021-01-11:04:39:07:INFO] Determined delimiter of CSV input is ','\u001b[0m\n",
      "\u001b[35m[2021-01-11:04:39:07:INFO] Model loaded successfully for worker : 40\u001b[0m\n",
      "\u001b[35m[2021-01-11:04:39:07:INFO] Sniff delimiter as ','\u001b[0m\n",
      "\u001b[35m[2021-01-11:04:39:07:INFO] Determined delimiter of CSV input is ','\u001b[0m\n",
      "\u001b[35m[2021-01-11:04:39:07:INFO] Sniff delimiter as ','\u001b[0m\n",
      "\u001b[35m[2021-01-11:04:39:07:INFO] Determined delimiter of CSV input is ','\u001b[0m\n",
      "\u001b[35m[2021-01-11:04:39:07:INFO] Sniff delimiter as ','\u001b[0m\n",
      "\u001b[35m[2021-01-11:04:39:07:INFO] Determined delimiter of CSV input is ','\u001b[0m\n",
      "\u001b[35m[2021-01-11:04:39:07:INFO] Sniff delimiter as ','\u001b[0m\n",
      "\u001b[35m[2021-01-11:04:39:07:INFO] Determined delimiter of CSV input is ','\u001b[0m\n",
      "\u001b[34m[2021-01-11:04:39:10:INFO] Sniff delimiter as ','\u001b[0m\n",
      "\u001b[34m[2021-01-11:04:39:10:INFO] Determined delimiter of CSV input is ','\u001b[0m\n",
      "\u001b[34m[2021-01-11:04:39:10:INFO] Sniff delimiter as ','\u001b[0m\n",
      "\u001b[34m[2021-01-11:04:39:10:INFO] Determined delimiter of CSV input is ','\u001b[0m\n",
      "\u001b[34m[2021-01-11:04:39:10:INFO] Sniff delimiter as ','\u001b[0m\n",
      "\u001b[34m[2021-01-11:04:39:10:INFO] Determined delimiter of CSV input is ','\u001b[0m\n",
      "\u001b[35m[2021-01-11:04:39:10:INFO] Sniff delimiter as ','\u001b[0m\n",
      "\u001b[35m[2021-01-11:04:39:10:INFO] Determined delimiter of CSV input is ','\u001b[0m\n",
      "\u001b[35m[2021-01-11:04:39:10:INFO] Sniff delimiter as ','\u001b[0m\n",
      "\u001b[35m[2021-01-11:04:39:10:INFO] Determined delimiter of CSV input is ','\u001b[0m\n",
      "\u001b[35m[2021-01-11:04:39:10:INFO] Sniff delimiter as ','\u001b[0m\n",
      "\u001b[35m[2021-01-11:04:39:10:INFO] Determined delimiter of CSV input is ','\u001b[0m\n",
      "\u001b[34m[2021-01-11:04:39:12:INFO] Sniff delimiter as ','\u001b[0m\n",
      "\u001b[34m[2021-01-11:04:39:12:INFO] Determined delimiter of CSV input is ','\u001b[0m\n",
      "\u001b[34m[2021-01-11:04:39:12:INFO] Sniff delimiter as ','\u001b[0m\n",
      "\u001b[34m[2021-01-11:04:39:12:INFO] Determined delimiter of CSV input is ','\u001b[0m\n",
      "\u001b[35m[2021-01-11:04:39:12:INFO] Sniff delimiter as ','\u001b[0m\n",
      "\u001b[35m[2021-01-11:04:39:12:INFO] Determined delimiter of CSV input is ','\u001b[0m\n",
      "\u001b[35m[2021-01-11:04:39:12:INFO] Sniff delimiter as ','\u001b[0m\n",
      "\u001b[35m[2021-01-11:04:39:12:INFO] Determined delimiter of CSV input is ','\u001b[0m\n",
      "\u001b[34m[2021-01-11:04:39:13:INFO] Sniff delimiter as ','\u001b[0m\n",
      "\u001b[34m[2021-01-11:04:39:13:INFO] Determined delimiter of CSV input is ','\u001b[0m\n",
      "\u001b[34m[2021-01-11:04:39:13:INFO] Sniff delimiter as ','\u001b[0m\n",
      "\u001b[34m[2021-01-11:04:39:13:INFO] Determined delimiter of CSV input is ','\u001b[0m\n",
      "\u001b[35m[2021-01-11:04:39:13:INFO] Sniff delimiter as ','\u001b[0m\n",
      "\u001b[35m[2021-01-11:04:39:13:INFO] Determined delimiter of CSV input is ','\u001b[0m\n",
      "\u001b[35m[2021-01-11:04:39:13:INFO] Sniff delimiter as ','\u001b[0m\n",
      "\u001b[35m[2021-01-11:04:39:13:INFO] Determined delimiter of CSV input is ','\u001b[0m\n",
      "\u001b[34m[2021-01-11:04:39:15:INFO] Sniff delimiter as ','\u001b[0m\n",
      "\u001b[34m[2021-01-11:04:39:15:INFO] Determined delimiter of CSV input is ','\u001b[0m\n",
      "\u001b[35m[2021-01-11:04:39:15:INFO] Sniff delimiter as ','\u001b[0m\n",
      "\u001b[35m[2021-01-11:04:39:15:INFO] Determined delimiter of CSV input is ','\u001b[0m\n",
      "\u001b[34m[2021-01-11:04:39:15:INFO] Sniff delimiter as ','\u001b[0m\n",
      "\u001b[34m[2021-01-11:04:39:15:INFO] Determined delimiter of CSV input is ','\u001b[0m\n",
      "\u001b[34m[2021-01-11:04:39:15:INFO] Sniff delimiter as ','\u001b[0m\n",
      "\u001b[34m[2021-01-11:04:39:15:INFO] Determined delimiter of CSV input is ','\u001b[0m\n",
      "\u001b[34m[2021-01-11:04:39:16:INFO] Sniff delimiter as ','\u001b[0m\n",
      "\u001b[34m[2021-01-11:04:39:16:INFO] Determined delimiter of CSV input is ','\u001b[0m\n",
      "\u001b[35m[2021-01-11:04:39:15:INFO] Sniff delimiter as ','\u001b[0m\n",
      "\u001b[35m[2021-01-11:04:39:15:INFO] Determined delimiter of CSV input is ','\u001b[0m\n",
      "\u001b[35m[2021-01-11:04:39:15:INFO] Sniff delimiter as ','\u001b[0m\n",
      "\u001b[35m[2021-01-11:04:39:15:INFO] Determined delimiter of CSV input is ','\u001b[0m\n",
      "\u001b[35m[2021-01-11:04:39:16:INFO] Sniff delimiter as ','\u001b[0m\n",
      "\u001b[35m[2021-01-11:04:39:16:INFO] Determined delimiter of CSV input is ','\u001b[0m\n",
      "\u001b[34m[2021-01-11:04:39:18:INFO] Sniff delimiter as ','\u001b[0m\n",
      "\u001b[34m[2021-01-11:04:39:18:INFO] Determined delimiter of CSV input is ','\u001b[0m\n",
      "\u001b[34m[2021-01-11:04:39:18:INFO] Sniff delimiter as ','\u001b[0m\n",
      "\u001b[34m[2021-01-11:04:39:18:INFO] Determined delimiter of CSV input is ','\u001b[0m\n",
      "\u001b[34m[2021-01-11:04:39:18:INFO] Sniff delimiter as ','\u001b[0m\n",
      "\u001b[34m[2021-01-11:04:39:18:INFO] Determined delimiter of CSV input is ','\u001b[0m\n",
      "\u001b[34m[2021-01-11:04:39:18:INFO] Sniff delimiter as ','\u001b[0m\n",
      "\u001b[34m[2021-01-11:04:39:18:INFO] Determined delimiter of CSV input is ','\u001b[0m\n",
      "\u001b[35m[2021-01-11:04:39:18:INFO] Sniff delimiter as ','\u001b[0m\n",
      "\u001b[35m[2021-01-11:04:39:18:INFO] Determined delimiter of CSV input is ','\u001b[0m\n",
      "\u001b[35m[2021-01-11:04:39:18:INFO] Sniff delimiter as ','\u001b[0m\n",
      "\u001b[35m[2021-01-11:04:39:18:INFO] Determined delimiter of CSV input is ','\u001b[0m\n",
      "\u001b[35m[2021-01-11:04:39:18:INFO] Sniff delimiter as ','\u001b[0m\n",
      "\u001b[35m[2021-01-11:04:39:18:INFO] Determined delimiter of CSV input is ','\u001b[0m\n",
      "\u001b[35m[2021-01-11:04:39:18:INFO] Sniff delimiter as ','\u001b[0m\n",
      "\u001b[35m[2021-01-11:04:39:18:INFO] Determined delimiter of CSV input is ','\u001b[0m\n",
      "\u001b[34m[2021-01-11:04:39:20:INFO] Sniff delimiter as ','\u001b[0m\n",
      "\u001b[34m[2021-01-11:04:39:20:INFO] Determined delimiter of CSV input is ','\u001b[0m\n",
      "\u001b[34m[2021-01-11:04:39:20:INFO] Sniff delimiter as ','\u001b[0m\n",
      "\u001b[34m[2021-01-11:04:39:20:INFO] Determined delimiter of CSV input is ','\u001b[0m\n",
      "\u001b[34m[2021-01-11:04:39:20:INFO] Sniff delimiter as ','\u001b[0m\n",
      "\u001b[34m[2021-01-11:04:39:20:INFO] Determined delimiter of CSV input is ','\u001b[0m\n",
      "\u001b[35m[2021-01-11:04:39:20:INFO] Sniff delimiter as ','\u001b[0m\n",
      "\u001b[35m[2021-01-11:04:39:20:INFO] Determined delimiter of CSV input is ','\u001b[0m\n",
      "\u001b[35m[2021-01-11:04:39:20:INFO] Sniff delimiter as ','\u001b[0m\n",
      "\u001b[35m[2021-01-11:04:39:20:INFO] Determined delimiter of CSV input is ','\u001b[0m\n",
      "\u001b[35m[2021-01-11:04:39:20:INFO] Sniff delimiter as ','\u001b[0m\n",
      "\u001b[35m[2021-01-11:04:39:20:INFO] Determined delimiter of CSV input is ','\u001b[0m\n",
      "\u001b[34m[2021-01-11:04:39:21:INFO] Sniff delimiter as ','\u001b[0m\n",
      "\u001b[34m[2021-01-11:04:39:21:INFO] Determined delimiter of CSV input is ','\u001b[0m\n",
      "\u001b[35m[2021-01-11:04:39:21:INFO] Sniff delimiter as ','\u001b[0m\n",
      "\u001b[35m[2021-01-11:04:39:21:INFO] Determined delimiter of CSV input is ','\u001b[0m\n",
      "\u001b[34m[2021-01-11:04:39:23:INFO] Sniff delimiter as ','\u001b[0m\n",
      "\u001b[34m[2021-01-11:04:39:23:INFO] Determined delimiter of CSV input is ','\u001b[0m\n",
      "\u001b[34m[2021-01-11:04:39:23:INFO] Sniff delimiter as ','\u001b[0m\n",
      "\u001b[34m[2021-01-11:04:39:23:INFO] Determined delimiter of CSV input is ','\u001b[0m\n",
      "\u001b[34m[2021-01-11:04:39:23:INFO] Sniff delimiter as ','\u001b[0m\n",
      "\u001b[34m[2021-01-11:04:39:23:INFO] Determined delimiter of CSV input is ','\u001b[0m\n",
      "\u001b[35m[2021-01-11:04:39:23:INFO] Sniff delimiter as ','\u001b[0m\n",
      "\u001b[35m[2021-01-11:04:39:23:INFO] Determined delimiter of CSV input is ','\u001b[0m\n",
      "\u001b[35m[2021-01-11:04:39:23:INFO] Sniff delimiter as ','\u001b[0m\n",
      "\u001b[35m[2021-01-11:04:39:23:INFO] Determined delimiter of CSV input is ','\u001b[0m\n",
      "\u001b[35m[2021-01-11:04:39:23:INFO] Sniff delimiter as ','\u001b[0m\n",
      "\u001b[35m[2021-01-11:04:39:23:INFO] Determined delimiter of CSV input is ','\u001b[0m\n",
      "\u001b[34m[2021-01-11:04:39:25:INFO] Sniff delimiter as ','\u001b[0m\n",
      "\u001b[34m[2021-01-11:04:39:25:INFO] Determined delimiter of CSV input is ','\u001b[0m\n",
      "\u001b[34m[2021-01-11:04:39:25:INFO] Sniff delimiter as ','\u001b[0m\n",
      "\u001b[34m[2021-01-11:04:39:25:INFO] Determined delimiter of CSV input is ','\u001b[0m\n",
      "\u001b[34m[2021-01-11:04:39:25:INFO] Sniff delimiter as ','\u001b[0m\n",
      "\u001b[34m[2021-01-11:04:39:25:INFO] Determined delimiter of CSV input is ','\u001b[0m\n",
      "\u001b[35m[2021-01-11:04:39:25:INFO] Sniff delimiter as ','\u001b[0m\n",
      "\u001b[35m[2021-01-11:04:39:25:INFO] Determined delimiter of CSV input is ','\u001b[0m\n",
      "\u001b[35m[2021-01-11:04:39:25:INFO] Sniff delimiter as ','\u001b[0m\n",
      "\u001b[35m[2021-01-11:04:39:25:INFO] Determined delimiter of CSV input is ','\u001b[0m\n",
      "\u001b[35m[2021-01-11:04:39:25:INFO] Sniff delimiter as ','\u001b[0m\n",
      "\u001b[35m[2021-01-11:04:39:25:INFO] Determined delimiter of CSV input is ','\u001b[0m\n",
      "\u001b[34m[2021-01-11:04:39:25:INFO] Sniff delimiter as ','\u001b[0m\n",
      "\u001b[34m[2021-01-11:04:39:25:INFO] Determined delimiter of CSV input is ','\u001b[0m\n",
      "\u001b[35m[2021-01-11:04:39:25:INFO] Sniff delimiter as ','\u001b[0m\n",
      "\u001b[35m[2021-01-11:04:39:25:INFO] Determined delimiter of CSV input is ','\u001b[0m\n",
      "\u001b[34m[2021-01-11:04:39:28:INFO] Sniff delimiter as ','\u001b[0m\n",
      "\u001b[34m[2021-01-11:04:39:28:INFO] Determined delimiter of CSV input is ','\u001b[0m\n",
      "\u001b[34m[2021-01-11:04:39:28:INFO] Sniff delimiter as ','\u001b[0m\n",
      "\u001b[34m[2021-01-11:04:39:28:INFO] Determined delimiter of CSV input is ','\u001b[0m\n",
      "\u001b[34m[2021-01-11:04:39:28:INFO] Sniff delimiter as ','\u001b[0m\n",
      "\u001b[34m[2021-01-11:04:39:28:INFO] Determined delimiter of CSV input is ','\u001b[0m\n",
      "\u001b[34m[2021-01-11:04:39:28:INFO] Sniff delimiter as ','\u001b[0m\n",
      "\u001b[34m[2021-01-11:04:39:28:INFO] Determined delimiter of CSV input is ','\u001b[0m\n",
      "\u001b[35m[2021-01-11:04:39:28:INFO] Sniff delimiter as ','\u001b[0m\n",
      "\u001b[35m[2021-01-11:04:39:28:INFO] Determined delimiter of CSV input is ','\u001b[0m\n",
      "\u001b[35m[2021-01-11:04:39:28:INFO] Sniff delimiter as ','\u001b[0m\n",
      "\u001b[35m[2021-01-11:04:39:28:INFO] Determined delimiter of CSV input is ','\u001b[0m\n",
      "\u001b[35m[2021-01-11:04:39:28:INFO] Sniff delimiter as ','\u001b[0m\n",
      "\u001b[35m[2021-01-11:04:39:28:INFO] Determined delimiter of CSV input is ','\u001b[0m\n",
      "\u001b[35m[2021-01-11:04:39:28:INFO] Sniff delimiter as ','\u001b[0m\n",
      "\u001b[35m[2021-01-11:04:39:28:INFO] Determined delimiter of CSV input is ','\u001b[0m\n",
      "\u001b[34m[2021-01-11:04:39:30:INFO] Sniff delimiter as ','\u001b[0m\n",
      "\u001b[35m[2021-01-11:04:39:30:INFO] Sniff delimiter as ','\u001b[0m\n",
      "\u001b[34m[2021-01-11:04:39:30:INFO] Determined delimiter of CSV input is ','\u001b[0m\n",
      "\u001b[34m[2021-01-11:04:39:30:INFO] Sniff delimiter as ','\u001b[0m\n",
      "\u001b[34m[2021-01-11:04:39:30:INFO] Determined delimiter of CSV input is ','\u001b[0m\n",
      "\u001b[34m[2021-01-11:04:39:30:INFO] Sniff delimiter as ','\u001b[0m\n",
      "\u001b[34m[2021-01-11:04:39:30:INFO] Determined delimiter of CSV input is ','\u001b[0m\n",
      "\u001b[35m[2021-01-11:04:39:30:INFO] Determined delimiter of CSV input is ','\u001b[0m\n",
      "\u001b[35m[2021-01-11:04:39:30:INFO] Sniff delimiter as ','\u001b[0m\n",
      "\u001b[35m[2021-01-11:04:39:30:INFO] Determined delimiter of CSV input is ','\u001b[0m\n",
      "\u001b[35m[2021-01-11:04:39:30:INFO] Sniff delimiter as ','\u001b[0m\n",
      "\u001b[35m[2021-01-11:04:39:30:INFO] Determined delimiter of CSV input is ','\u001b[0m\n"
     ]
    },
    {
     "name": "stdout",
     "output_type": "stream",
     "text": [
      "\n"
     ]
    }
   ],
   "source": [
    "xgb_transformer.wait()"
   ]
  },
  {
   "cell_type": "markdown",
   "metadata": {},
   "source": [
    "Now the transform job has executed and the result, the estimated sentiment of each review, has been saved on S3. Since we would rather work on this file locally we can perform a bit of notebook magic to copy the file to the `data_dir`."
   ]
  },
  {
   "cell_type": "code",
   "execution_count": 41,
   "metadata": {},
   "outputs": [
    {
     "name": "stdout",
     "output_type": "stream",
     "text": [
      "Completed 256.0 KiB/374.7 KiB (2.1 MiB/s) with 1 file(s) remaining\r",
      "Completed 374.7 KiB/374.7 KiB (3.1 MiB/s) with 1 file(s) remaining\r",
      "download: s3://sagemaker-us-east-1-701904821656/xgboost-210111-0101-019-9b44a8b5-2021-01-11-04-34-06-359/test.csv.out to ../data/xgboost/test.csv.out\r\n"
     ]
    }
   ],
   "source": [
    "!aws s3 cp --recursive $xgb_transformer.output_path $data_dir"
   ]
  },
  {
   "cell_type": "markdown",
   "metadata": {},
   "source": [
    "The last step is now to read in the output from our model, convert the output to something a little more usable, in this case we want the sentiment to be either `1` (positive) or `0` (negative), and then compare to the ground truth labels."
   ]
  },
  {
   "cell_type": "code",
   "execution_count": 42,
   "metadata": {},
   "outputs": [],
   "source": [
    "predictions = pd.read_csv(os.path.join(data_dir, 'test.csv.out'), header=None)\n",
    "predictions = [round(num) for num in predictions.squeeze().values]"
   ]
  },
  {
   "cell_type": "code",
   "execution_count": 43,
   "metadata": {},
   "outputs": [
    {
     "data": {
      "text/plain": [
       "0.86592"
      ]
     },
     "execution_count": 43,
     "metadata": {},
     "output_type": "execute_result"
    }
   ],
   "source": [
    "from sklearn.metrics import accuracy_score\n",
    "accuracy_score(test_y, predictions)"
   ]
  },
  {
   "cell_type": "markdown",
   "metadata": {},
   "source": [
    "## Optional: Clean up\n",
    "\n",
    "The default notebook instance on SageMaker doesn't have a lot of excess disk space available. As you continue to complete and execute notebooks you will eventually fill up this disk space, leading to errors which can be difficult to diagnose. Once you are completely finished using a notebook it is a good idea to remove the files that you created along the way. Of course, you can do this from the terminal or from the notebook hub if you would like. The cell below contains some commands to clean up the created files from within the notebook."
   ]
  },
  {
   "cell_type": "code",
   "execution_count": 44,
   "metadata": {},
   "outputs": [],
   "source": [
    "# First we will remove all of the files contained in the data_dir directory\n",
    "!rm $data_dir/*\n",
    "\n",
    "# And then we delete the directory itself\n",
    "!rmdir $data_dir\n",
    "\n",
    "# Similarly we will remove the files in the cache_dir directory and the directory itself\n",
    "!rm $cache_dir/*\n",
    "!rmdir $cache_dir"
   ]
  },
  {
   "cell_type": "code",
   "execution_count": null,
   "metadata": {},
   "outputs": [],
   "source": []
  }
 ],
 "metadata": {
  "kernelspec": {
   "display_name": "conda_python3",
   "language": "python",
   "name": "conda_python3"
  },
  "language_info": {
   "codemirror_mode": {
    "name": "ipython",
    "version": 3
   },
   "file_extension": ".py",
   "mimetype": "text/x-python",
   "name": "python",
   "nbconvert_exporter": "python",
   "pygments_lexer": "ipython3",
   "version": "3.6.10"
  }
 },
 "nbformat": 4,
 "nbformat_minor": 2
}
